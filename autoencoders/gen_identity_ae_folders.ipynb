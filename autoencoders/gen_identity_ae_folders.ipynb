{
 "cells": [
  {
   "cell_type": "markdown",
   "metadata": {},
   "source": [
    "This is a simple way to support evaluating raw MLP or residual activations while keeping everything fully compatible with the existing setup."
   ]
  },
  {
   "cell_type": "code",
   "execution_count": null,
   "metadata": {},
   "outputs": [],
   "source": [
    "import json\n",
    "import os\n",
    "\n",
    "config = {\n",
    "    \"trainer\": {\n",
    "        \"dict_class\": \"Identity\",\n",
    "        \"trainer_class\": \"Identity\",\n",
    "        \"layer\": 0,\n",
    "        \"activation_dim\": 2048,\n",
    "        \"dict_size\": 2048,\n",
    "        \"lm_name\": \"Baidicoot/Othello-GPT-Transformer-Lens\",\n",
    "    },\n",
    "    \"buffer\": {\n",
    "        \"d_submodule\": 2048,\n",
    "        \"io\": \"out\",\n",
    "        \"ctx_len\": 59,\n",
    "        \"device\": \"cuda:0\"\n",
    "    }\n",
    "}\n",
    "\n",
    "root_folder_name = \"othello_mlp_acts_identity_aes\"\n",
    "\n",
    "max_layers = 8\n",
    "\n",
    "os.makedirs(root_folder_name, exist_ok=True)\n",
    "\n",
    "for i in range(max_layers):\n",
    "    config[\"trainer\"][\"layer\"] = i\n",
    "    folder_name = f\"{root_folder_name}/layer_{i}\"\n",
    "    os.makedirs(folder_name, exist_ok=True)\n",
    "    with open(f\"{folder_name}/config.json\", \"w\") as f:\n",
    "        json.dump(config, f, indent=4)\n",
    "\n",
    "    # create a fake ae.pt file to match the expected structure\n",
    "    with open(f\"{folder_name}/ae.pt\", 'a'):\n",
    "        pass  # 'a' mode will create the file if it does not exist, and do nothing if it does\n",
    "        "
   ]
  },
  {
   "cell_type": "code",
   "execution_count": null,
   "metadata": {},
   "outputs": [],
   "source": [
    "import json\n",
    "import os\n",
    "\n",
    "config = {\n",
    "    \"trainer\": {\n",
    "        \"dict_class\": \"Identity\",\n",
    "        \"trainer_class\": \"Identity\",\n",
    "        \"layer\": 0,\n",
    "        \"activation_dim\": 2048,\n",
    "        \"dict_size\": 2048,\n",
    "        \"lm_name\": \"adamkarvonen/8LayerChessGPT2\",\n",
    "    },\n",
    "    \"buffer\": {\n",
    "        \"d_submodule\": 2048,\n",
    "        \"io\": \"out\",\n",
    "        \"ctx_len\": 256,\n",
    "        \"device\": \"cuda:0\"\n",
    "    }\n",
    "}\n",
    "\n",
    "root_folder_name = \"chess_mlp_acts_identity_aes\"\n",
    "\n",
    "max_layers = 8\n",
    "\n",
    "os.makedirs(root_folder_name, exist_ok=True)\n",
    "\n",
    "for i in range(max_layers):\n",
    "    config[\"trainer\"][\"layer\"] = i\n",
    "    folder_name = f\"{root_folder_name}/layer_{i}\"\n",
    "    os.makedirs(folder_name, exist_ok=True)\n",
    "    with open(f\"{folder_name}/config.json\", \"w\") as f:\n",
    "        json.dump(config, f, indent=4)\n",
    "\n",
    "    # create a fake ae.pt file to match the expected structure\n",
    "    with open(f\"{folder_name}/ae.pt\", 'a'):\n",
    "        pass  # 'a' mode will create the file if it does not exist, and do nothing if it does\n",
    "        "
   ]
  }
 ],
 "metadata": {
  "kernelspec": {
   "display_name": "circuits",
   "language": "python",
   "name": "python3"
  },
  "language_info": {
   "codemirror_mode": {
    "name": "ipython",
    "version": 3
   },
   "file_extension": ".py",
   "mimetype": "text/x-python",
   "name": "python",
   "nbconvert_exporter": "python",
   "pygments_lexer": "ipython3",
   "version": "3.11.8"
  }
 },
 "nbformat": 4,
 "nbformat_minor": 2
}
