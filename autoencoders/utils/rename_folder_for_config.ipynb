{
 "cells": [
  {
   "cell_type": "code",
   "execution_count": null,
   "metadata": {},
   "outputs": [],
   "source": [
    "import torch\n",
    "import json\n",
    "import os\n",
    "\n",
    "# NOTE: YOU WILL HAVE TO MANUALLY SET LAYER VALUE FOR NOW\n",
    "layer = 5\n",
    "\n",
    "for folder_name in os.listdir():\n",
    "\n",
    "    if not os.path.isdir(folder_name):\n",
    "        continue\n",
    "\n",
    "    model_name = f\"{folder_name}/ae.pt\"\n",
    "\n",
    "    model = torch.load(model_name)\n",
    "\n",
    "    hidden_dim = model['encoder.weight'].shape[0]\n",
    "    input_dim = model['encoder.weight'].shape[1]\n",
    "\n",
    "    assert hidden_dim % input_dim == 0\n",
    "\n",
    "    expansion_factor = int(hidden_dim / input_dim)\n",
    "\n",
    "    with open(f\"{folder_name}/config.json\") as f:\n",
    "        config = json.load(f)\n",
    "\n",
    "\n",
    "    lr = format(config['trainer']['lr'], '.0e')\n",
    "    l1 = format(config['trainer']['l1_penalty'], '.0e')\n",
    "\n",
    "    if 'activation_dim' not in config['trainer']:\n",
    "        config['trainer']['activation_dim'] = input_dim\n",
    "    \n",
    "    if 'dictionary_size' not in config['trainer']:\n",
    "        config['trainer']['dictionary_size'] = hidden_dim\n",
    "\n",
    "    config['trainer']['layer'] = layer\n",
    "\n",
    "    # replace the config\n",
    "    with open(f\"{folder_name}/config.json\", 'w') as f:\n",
    "        json.dump(config, f, indent=4)\n",
    "\n",
    "    print(config)\n",
    "    print(config['trainer']['lr'])\n",
    "    new_folder_name = f\"ef={expansion_factor}_lr={lr}_l1={l1}_layer={layer}\"\n",
    "\n",
    "    # rename the folder\n",
    "    os.rename(folder_name, new_folder_name)"
   ]
  }
 ],
 "metadata": {
  "kernelspec": {
   "display_name": "circuits",
   "language": "python",
   "name": "python3"
  },
  "language_info": {
   "codemirror_mode": {
    "name": "ipython",
    "version": 3
   },
   "file_extension": ".py",
   "mimetype": "text/x-python",
   "name": "python",
   "nbconvert_exporter": "python",
   "pygments_lexer": "ipython3",
   "version": "3.11.8"
  }
 },
 "nbformat": 4,
 "nbformat_minor": 2
}
