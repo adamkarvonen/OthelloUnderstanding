{
 "cells": [
  {
   "cell_type": "code",
   "execution_count": null,
   "metadata": {},
   "outputs": [],
   "source": [
    "import torch\n",
    "import json\n",
    "import os\n",
    "\n",
    "for folder_name in os.listdir():\n",
    "\n",
    "    if not os.path.isdir(folder_name):\n",
    "        continue\n",
    "\n",
    "    model_name = f\"{folder_name}/ae.pt\"\n",
    "\n",
    "    model = torch.load(model_name)\n",
    "\n",
    "    # for name in model:\n",
    "    #     print(name)\n",
    "\n",
    "    print(model['encoder.weight'].shape)\n",
    "\n",
    "    hidden_dim = model['encoder.weight'].shape[0]\n",
    "    input_dim = model['encoder.weight'].shape[1]\n",
    "\n",
    "    assert hidden_dim % input_dim == 0\n",
    "\n",
    "    expansion_factor = int(hidden_dim / input_dim)\n",
    "\n",
    "    with open(f\"{folder_name}/config.json\") as f:\n",
    "        config = json.load(f)\n",
    "\n",
    "    layer = 5\n",
    "    lr = format(config['trainer']['lr'], '.0e')\n",
    "    l1 = format(config['trainer']['l1_penalty'], '.0e')\n",
    "\n",
    "    print(config)\n",
    "    print(config['trainer']['lr'])\n",
    "    new_folder_name = f\"ef={expansion_factor}_lr={lr}_l1={l1}_layer={layer}\"\n",
    "\n",
    "    # rename the folder\n",
    "    os.rename(folder_name, new_folder_name)"
   ]
  },
  {
   "cell_type": "code",
   "execution_count": null,
   "metadata": {},
   "outputs": [],
   "source": [
    "print(format(0.001, '.0e'))"
   ]
  },
  {
   "cell_type": "code",
   "execution_count": null,
   "metadata": {},
   "outputs": [],
   "source": [
    "\n",
    "folder_name = \"ef=8_lr=1e-4_l1=1-e4_layer=5_steps=300000\"\n",
    "\n",
    "\n",
    "new_folder_name = f\"ef\""
   ]
  }
 ],
 "metadata": {
  "kernelspec": {
   "display_name": "circuits",
   "language": "python",
   "name": "python3"
  },
  "language_info": {
   "codemirror_mode": {
    "name": "ipython",
    "version": 3
   },
   "file_extension": ".py",
   "mimetype": "text/x-python",
   "name": "python",
   "nbconvert_exporter": "python",
   "pygments_lexer": "ipython3",
   "version": "3.11.8"
  }
 },
 "nbformat": 4,
 "nbformat_minor": 2
}
