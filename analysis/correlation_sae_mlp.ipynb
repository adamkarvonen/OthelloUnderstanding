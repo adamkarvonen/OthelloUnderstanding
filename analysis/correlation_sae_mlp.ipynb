{
 "cells": [
  {
   "cell_type": "code",
   "execution_count": 1,
   "metadata": {},
   "outputs": [],
   "source": [
    "import os\n",
    "\n",
    "import torch as t\n",
    "import numpy as np\n",
    "import einops\n",
    "import matplotlib.pyplot as plt\n",
    "from huggingface_hub import hf_hub_download\n",
    "import pickle\n",
    "\n",
    "from circuits.dictionary_learning.buffer import NNsightActivationBuffer\n",
    "from circuits.dictionary_learning.dictionary import AutoEncoder, AutoEncoderNew, GatedAutoEncoder\n",
    "import circuits.othello_utils as othello_utils\n",
    "from circuits.utils import (\n",
    "    othello_hf_dataset_to_generator,\n",
    "    get_model,\n",
    "    get_submodule,\n",
    ")\n",
    "\n",
    "import circuits.analysis as analysis\n",
    "import circuits.utils as utils\n",
    "import circuits.othello_utils as othello_utils\n",
    "import circuits.chess_utils as chess_utils\n",
    "\n",
    "repo_dir = \"/home/adam/chess-gpt-circuits/\"\n",
    "# repo_dir = '/share/u/can/chess-gpt-circuits'\n",
    "device = 'cuda:0'\n",
    "\n",
    "othello = True"
   ]
  },
  {
   "cell_type": "code",
   "execution_count": 2,
   "metadata": {},
   "outputs": [],
   "source": [
    "if othello:\n",
    "    # download data from huggingface if needed\n",
    "    if not os.path.exists(f'{repo_dir}/autoencoders/othello_5-21'):\n",
    "        hf_hub_download(repo_id='adamkarvonen/othello_saes', filename='othello_5-21.zip', local_dir=f'{repo_dir}/autoencoders')\n",
    "        # unzip the data\n",
    "        os.system(f'unzip {repo_dir}/autoencoders/othello_5-21.zip -d autoencoders')"
   ]
  },
  {
   "cell_type": "code",
   "execution_count": 3,
   "metadata": {},
   "outputs": [
    {
     "name": "stdout",
     "output_type": "stream",
     "text": [
      "torch.Size([4096, 512])\n"
     ]
    }
   ],
   "source": [
    "# load SAE\n",
    "ae_type = 'p_anneal'\n",
    "trainer_id = 4\n",
    "\n",
    "if othello:\n",
    "    ae_path = f'{repo_dir}/autoencoders/othello_5-21/othello-{ae_type}/trainer{trainer_id}'\n",
    "else:\n",
    "    ae_path = f'{repo_dir}/autoencoders/chess-trained_model-layer_5-2024-05-23/chess-trained_model-layer_5-{ae_type}/trainer{trainer_id}'\n",
    "\n",
    "\n",
    "if ae_type == 'standard' or ae_type == 'p_anneal':\n",
    "    ae = AutoEncoder.from_pretrained(os.path.join(ae_path, 'ae.pt'), device='cuda:0')\n",
    "elif ae_type == 'gated' or ae_type == 'gated_anneal':\n",
    "    ae = GatedAutoEncoder.from_pretrained(os.path.join(ae_path, 'ae.pt'), device='cuda:0')\n",
    "elif ae_type == 'standard_new':\n",
    "    ae = AutoEncoderNew.from_pretrained(os.path.join(ae_path, 'ae.pt'), device='cuda:0')\n",
    "else:\n",
    "    raise ValueError('Invalid ae_type')\n",
    "\n",
    "print(ae.encoder.weight.shape)\n",
    "ae_hidden_dim = ae.encoder.weight.shape[0]\n",
    "d_model = ae.encoder.weight.shape[1]"
   ]
  },
  {
   "cell_type": "code",
   "execution_count": 4,
   "metadata": {},
   "outputs": [
    {
     "data": {
      "application/vnd.jupyter.widget-view+json": {
       "model_id": "c3e26212e5b34ed7b5378064b3e28bb0",
       "version_major": 2,
       "version_minor": 0
      },
      "text/plain": [
       "Resolving data files:   0%|          | 0/20 [00:00<?, ?it/s]"
      ]
     },
     "metadata": {},
     "output_type": "display_data"
    },
    {
     "data": {
      "application/vnd.jupyter.widget-view+json": {
       "model_id": "0514650701d44f8baf27311031eb57d9",
       "version_major": 2,
       "version_minor": 0
      },
      "text/plain": [
       "Resolving data files:   0%|          | 0/20 [00:00<?, ?it/s]"
      ]
     },
     "metadata": {},
     "output_type": "display_data"
    },
    {
     "name": "stdout",
     "output_type": "stream",
     "text": [
      "Loaded pretrained model Baidicoot/Othello-GPT-Transformer-Lens into HookedTransformer\n",
      "Moving model to device:  cuda:0\n"
     ]
    }
   ],
   "source": [
    "# load model\n",
    "d_model = 512  # output dimension of the layer\n",
    "layer = 5\n",
    "\n",
    "if not othello:\n",
    "    with open(\"models/meta.pkl\", \"rb\") as f:\n",
    "        meta = pickle.load(f)\n",
    "\n",
    "    context_length = 256\n",
    "    model_name = \"adamkarvonen/8LayerChessGPT2\"\n",
    "    dataset_name = \"adamkarvonen/chess_sae_text\"\n",
    "    data = utils.chess_hf_dataset_to_generator(\n",
    "        dataset_name, meta, context_length=context_length, split=\"train\", streaming=True\n",
    "    )\n",
    "    model_type = \"chess\"\n",
    "else:\n",
    "    context_length = 59\n",
    "    model_name = \"Baidicoot/Othello-GPT-Transformer-Lens\"\n",
    "    dataset_name = \"taufeeque/othellogpt\"\n",
    "    data = utils.othello_hf_dataset_to_generator(\n",
    "        dataset_name, context_length=context_length, split=\"train\", streaming=True\n",
    "    )\n",
    "    model_type = \"othello\"\n",
    "\n",
    "model = utils.get_model(model_name, device)\n",
    "submodule = utils.get_submodule(model_name, layer, model)\n",
    "\n",
    "mlp_post_submodules = [model.blocks[layer].mlp.hook_post for layer in range(model.cfg.n_layers)]\n",
    "\n",
    "batch_size = 8\n",
    "total_games_size = batch_size * 10\n",
    "\n",
    "buffer = NNsightActivationBuffer(\n",
    "    data,\n",
    "    model,\n",
    "    submodule,\n",
    "    n_ctxs=8e3,\n",
    "    ctx_len=context_length,\n",
    "    refresh_batch_size=batch_size,\n",
    "    io=\"out\",\n",
    "    d_submodule=d_model,\n",
    "    device=device,\n",
    ")"
   ]
  },
  {
   "cell_type": "code",
   "execution_count": null,
   "metadata": {},
   "outputs": [],
   "source": []
  },
  {
   "cell_type": "markdown",
   "metadata": {},
   "source": [
    "## Single SAE feature ~ all MLP neurons\n",
    "Fixing a single SAE feature, which MLP neurons (in earlier and later layers) show high pearson correlation with the SAE feature?"
   ]
  },
  {
   "cell_type": "markdown",
   "metadata": {},
   "source": [
    "From feature viz notebook: Feature #21 of f'{repo_dir}/autoencoders/group-2024-05-17_othello/group-2024-05-17_othello-{standard_new}/trainer{0}' looks like it is representing a piece on H1 or G1\n",
    "\n",
    "<img src=\"./feat21.png\" alt=\"Image description\" width=\"800\"/>"
   ]
  },
  {
   "cell_type": "code",
   "execution_count": 5,
   "metadata": {},
   "outputs": [],
   "source": [
    "feat_idx = 21"
   ]
  },
  {
   "cell_type": "code",
   "execution_count": 7,
   "metadata": {},
   "outputs": [],
   "source": [
    "# Caching activations with nnsight\n",
    "mlp_acts_bLF = {}\n",
    "for layer in range(model.cfg.n_layers):\n",
    "    mlp_acts_bLF[layer] = t.zeros((total_games_size, context_length, d_model * 4), dtype=t.float32, device=device)\n",
    "\n",
    "tokens_bL = t.zeros((total_games_size, context_length), dtype=t.int16, device=device)\n",
    "feature_activations_bLF = t.zeros((total_games_size, context_length, ae_hidden_dim), dtype=t.float32, device=device)\n",
    "\n",
    "for i in range(0, total_games_size, batch_size):\n",
    "    game_batch_BL = [next(data) for _ in range(batch_size)]\n",
    "    game_batch_BL = t.tensor(game_batch_BL, device=device)\n",
    "    with t.no_grad(), model.trace(game_batch_BL, scan=False, validate=False):\n",
    "        x_BLD = submodule.output\n",
    "        feature_acts_BLF = ae.encode(x_BLD).save()\n",
    "        for layer in range(model.cfg.n_layers):\n",
    "            mlp_acts_bLF[layer][i:i+batch_size] = mlp_post_submodules[layer].output.save()\n",
    "    tokens_bL[i:i+batch_size] = game_batch_BL\n",
    "    feature_activations_bLF[i:i+batch_size] = feature_acts_BLF\n",
    "\n",
    "feature_activations_Fb = einops.rearrange(feature_activations_bLF, \"B S F -> F (B S)\")\n",
    "\n",
    "for layer in mlp_acts_bLF:\n",
    "    mlp_acts_bLF[layer] = einops.rearrange(mlp_acts_bLF[layer], \"B S F -> F (B S)\")\n",
    "mlp_acts_Fb = {layer: mlp_acts_bLF[layer] for layer in mlp_acts_bLF}"
   ]
  },
  {
   "cell_type": "code",
   "execution_count": 14,
   "metadata": {},
   "outputs": [],
   "source": [
    "# Pearson correlation calculation function\n",
    "def pearson_corr(x, y):\n",
    "    mean_x = x.mean(dim=-1, keepdim=True)\n",
    "    mean_y = y.mean(dim=-1, keepdim=True)\n",
    "    xm = x - mean_x\n",
    "    ym = y - mean_y\n",
    "    r_num = t.sum(xm * ym, dim=-1)\n",
    "    r_den = t.sqrt(t.sum(xm * xm, dim=-1) * t.sum(ym * ym, dim=-1))\n",
    "    \n",
    "    with t.no_grad():\n",
    "        zero_variance = (r_den == 0)\n",
    "    r = t.where(zero_variance, t.zeros_like(r_num), r_num / r_den)\n",
    "\n",
    "    return r\n",
    "\n",
    "\n",
    "def get_correlation_for_activation(\n",
    "    x_activations_Fb: t.Tensor, x_activation_index: int, y_activations_Fb: t.Tensor\n",
    ") -> t.Tensor:\n",
    "    x_activation_b = x_activations_Fb[x_activation_index]\n",
    "    correlations = t.zeros(y_activations_Fb.shape[0])\n",
    "\n",
    "    for i in range(y_activations_Fb.shape[0]):\n",
    "        y_activation_b = y_activations_Fb[i]\n",
    "        corr = pearson_corr(x_activation_b, y_activation_b)\n",
    "        correlations[i] = corr\n",
    "\n",
    "    return correlations\n",
    "\n",
    "mlp_neuron_idx = 1024\n",
    "# correlations = get_correlation_for_activation(feature_activations_Fb, feat_idx, mlp_acts_Fb[5])\n",
    "correlations = get_correlation_for_activation(mlp_acts_Fb[5], mlp_neuron_idx, feature_activations_Fb)\n",
    "\n",
    "# Calculate Pearson correlation\n",
    "# pearson_correlations = {}\n",
    "\n",
    "# for layer in mlp_acts:\n",
    "#     mlp_acts_layer = mlp_acts[layer]\n",
    "#     correlations = t.zeros(mlp_acts_layer.shape[0])\n",
    "#     for i in range(mlp_acts_layer.shape[0]):\n",
    "#         mlp_feature = mlp_acts_layer[i]\n",
    "#         corr = pearson_corr(feature_acts_BLF, mlp_feature)\n",
    "#         correlations[i] = corr\n",
    "#     pearson_correlations[layer] = correlations"
   ]
  },
  {
   "cell_type": "code",
   "execution_count": 16,
   "metadata": {},
   "outputs": [
    {
     "name": "stdout",
     "output_type": "stream",
     "text": [
      "torch.Size([4096])\n",
      "tensor(0.5275)\n",
      "tensor(3098)\n"
     ]
    },
    {
     "data": {
      "image/png": "[encoded data removed]",
      "text/plain": [
       "<Figure size 640x480 with 1 Axes>"
      ]
     },
     "metadata": {},
     "output_type": "display_data"
    }
   ],
   "source": [
    "print(correlations.shape)\n",
    "print(correlations.max())\n",
    "print(correlations.argmax())\n",
    "\n",
    "plt.hist(correlations.cpu().numpy(), bins=100)\n",
    "plt.show()"
   ]
  },
  {
   "cell_type": "code",
   "execution_count": null,
   "metadata": {},
   "outputs": [],
   "source": [
    "# # Prepare data\n",
    "# layers = list(pearson_correlations.keys())\n",
    "# data = [pearson_correlations[l].abs() for l in layers]\n",
    "\n",
    "# # Create stacked histogram\n",
    "# plt.hist(data, bins=100, histtype='bar', stacked=True, label=layers)\n",
    "\n",
    "# # Add legend and log scale for y-axis\n",
    "# plt.legend(title='Layer')\n",
    "# plt.yscale('log')\n",
    "\n",
    "# # Display plot\n",
    "# plt.xlabel('Absolute Pearson Correlation')\n",
    "# plt.ylabel('Frequency')\n",
    "# plt.title('Stacked Histogram of Pearson Correlations by Layer')\n",
    "# plt.show()"
   ]
  },
  {
   "cell_type": "code",
   "execution_count": null,
   "metadata": {},
   "outputs": [],
   "source": [
    "# # save indices and layer for pearson_correlations above a certain threshold\n",
    "# corr_threshold = 0.5\n",
    "# indices = {}\n",
    "# for layer in pearson_correlations:\n",
    "#     indices[layer] = t.where(pearson_correlations[layer].abs() > corr_threshold)[0]\n",
    "\n",
    "# indices"
   ]
  }
 ],
 "metadata": {
  "kernelspec": {
   "display_name": "Python 3",
   "language": "python",
   "name": "python3"
  },
  "language_info": {
   "codemirror_mode": {
    "name": "ipython",
    "version": 3
   },
   "file_extension": ".py",
   "mimetype": "text/x-python",
   "name": "python",
   "nbconvert_exporter": "python",
   "pygments_lexer": "ipython3",
   "version": "3.11.8"
  }
 },
 "nbformat": 4,
 "nbformat_minor": 2
}
