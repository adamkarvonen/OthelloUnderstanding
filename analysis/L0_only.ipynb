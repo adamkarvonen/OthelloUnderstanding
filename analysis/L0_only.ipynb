{
 "cells": [
  {
   "cell_type": "markdown",
   "metadata": {},
   "source": [
    "## Find out the L0 distribution for a sweep of SAEs"
   ]
  },
  {
   "cell_type": "code",
   "execution_count": null,
   "metadata": {},
   "outputs": [],
   "source": [
    "import os\n",
    "import json\n",
    "import torch as t\n",
    "import pandas as pd\n",
    "import matplotlib.pyplot as plt\n",
    "\n",
    "from circuits.utils import (\n",
    "    othello_hf_dataset_to_generator,\n",
    "    get_model,\n",
    "    get_submodule,\n",
    ")\n",
    "\n",
    "import sys\n",
    "home_path = '/share/u/can'\n",
    "sys.path.append(home_path)\n",
    "from dictionary_learning.dictionary import AutoEncoder, AutoEncoderNew, GatedAutoEncoder\n",
    "from dictionary_learning.evaluation import evaluate\n",
    "\n",
    "device = 'cuda:0'"
   ]
  },
  {
   "cell_type": "code",
   "execution_count": null,
   "metadata": {},
   "outputs": [],
   "source": [
    "# load model and data\n",
    "model_name = \"Baidicoot/Othello-GPT-Transformer-Lens\"\n",
    "layer = 5\n",
    "context_length = 59\n",
    "activation_dim = 512  # output dimension of the layer\n",
    "dataset_name = \"taufeeque/othellogpt\"\n",
    "game_batch_size = 1000\n",
    "\n",
    "model = get_model(model_name, device)\n",
    "submodule = get_submodule(model_name, layer, model)\n",
    "\n",
    "data = othello_hf_dataset_to_generator(\n",
    "    dataset_name, context_length=context_length, split=\"train\", streaming=True\n",
    ")\n",
    "game_batch = [next(data) for _ in range(game_batch_size)]\n",
    "game_batch = t.tensor(game_batch, device=device)\n",
    "print(f'game_batch: {len(game_batch)}')"
   ]
  },
  {
   "cell_type": "code",
   "execution_count": null,
   "metadata": {},
   "outputs": [],
   "source": [
    "# SAE loading config and helper functions\n",
    "ae_type = 'standard'\n",
    "\n",
    "repo_dir = f'{home_path}/chess-gpt-circuits'\n",
    "ae_group_path = f'{home_path}/sweep_othello'\n",
    "\n",
    "def load_ae(ae_group_path, ae_type):\n",
    "    if ae_type == 'standard':\n",
    "        return AutoEncoder.from_pretrained(f'{ae_group_path}/ae.pt', device=device)\n",
    "    elif ae_type == 'gated':\n",
    "        return GatedAutoEncoder.from_pretrained(f'{ae_group_path}/ae.pt', device=device)\n",
    "    elif ae_type == 'standard_new':\n",
    "        return AutoEncoderNew.from_pretrained(f'{ae_group_path}/ae.pt', device=device)\n",
    "    else:\n",
    "        raise ValueError('Invalid ae_type')\n"
   ]
  },
  {
   "cell_type": "code",
   "execution_count": null,
   "metadata": {},
   "outputs": [],
   "source": [
    "def compute_mean_l0(ae, submodule, game_batch):\n",
    "    with t.no_grad(), model.trace(game_batch, scan=False, validate=False):\n",
    "        x = submodule.output\n",
    "        f = ae.encode(x).save()\n",
    "    l0 = (f != 0).float().sum(dim=-1).mean()\n",
    "    return l0"
   ]
  },
  {
   "cell_type": "code",
   "execution_count": null,
   "metadata": {},
   "outputs": [],
   "source": [
    "# Find all folders in ae_group_path\n",
    "ae_folders = [f for f in os.listdir(ae_group_path) if 'trainer' in f]\n",
    "l0s = t.zeros(len(ae_folders))\n",
    "sparsity_coefficients = t.zeros(len(ae_folders))\n",
    "\n",
    "for i, ae_folder in enumerate(ae_folders):\n",
    "    ae_dir = os.path.join(ae_group_path, ae_folder)\n",
    "    ae = load_ae(ae_dir, ae_type)\n",
    "    l0s[i] = compute_mean_l0(ae, submodule, game_batch)\n",
    "    with open(f'{ae_dir}/config.json', 'r') as f:\n",
    "        config = json.load(f)\n",
    "        sparsity_coefficients[i] = config['trainer']['sparsity_penalty']\n",
    "\n",
    "df = pd.DataFrame({'ae_folder': ae_folders, 'l0': l0s, 'sparsity_coefficient': sparsity_coefficients})\n",
    "df.to_csv(f'{ae_group_path}/l0.csv')\n",
    "df"
   ]
  },
  {
   "cell_type": "code",
   "execution_count": null,
   "metadata": {},
   "outputs": [],
   "source": [
    "xy = df[['sparsity_coefficient', 'l0']].sort_values('sparsity_coefficient')\n",
    "\n",
    "plt.scatter(xy['sparsity_coefficient'], xy['l0'])\n",
    "plt.ylabel('L0')\n",
    "plt.xlabel('sparsity_coefficient')\n",
    "plt.title('L0 distribution in sweep')\n",
    "plt.savefig(f'{ae_group_path}/sparsitycoeff_vs_l0.png')\n",
    "plt.show()"
   ]
  },
  {
   "cell_type": "code",
   "execution_count": null,
   "metadata": {},
   "outputs": [],
   "source": []
  }
 ],
 "metadata": {
  "kernelspec": {
   "display_name": "base",
   "language": "python",
   "name": "python3"
  },
  "language_info": {
   "codemirror_mode": {
    "name": "ipython",
    "version": 3
   },
   "file_extension": ".py",
   "mimetype": "text/x-python",
   "name": "python",
   "nbconvert_exporter": "python",
   "pygments_lexer": "ipython3",
   "version": "3.12.2"
  }
 },
 "nbformat": 4,
 "nbformat_minor": 2
}
