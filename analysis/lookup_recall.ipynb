{
 "cells": [
  {
   "cell_type": "markdown",
   "metadata": {},
   "source": [
    "# Find lookup tables mapping high precision classifiers to \n",
    "Load reconstruction results for layer 5 Othello\n",
    "\n",
    "This notebook always uses the sae_feature_index per default, instead of the alive index"
   ]
  },
  {
   "cell_type": "code",
   "execution_count": null,
   "metadata": {},
   "outputs": [],
   "source": [
    "# Setup\n",
    "# Imports\n",
    "import os\n",
    "import pickle\n",
    "\n",
    "import torch as t\n",
    "from huggingface_hub import hf_hub_download\n",
    "import matplotlib.pyplot as plt\n",
    "import importlib\n",
    "import numpy as np\n",
    "import einops\n",
    "\n",
    "from circuits.dictionary_learning.dictionary import AutoEncoder, AutoEncoderNew, GatedAutoEncoder, IdentityDict\n",
    "from circuits.utils import (\n",
    "    othello_hf_dataset_to_generator,\n",
    "    get_model,\n",
    "    get_submodule,\n",
    ")\n",
    "\n",
    "from feature_viz_othello_utils import (\n",
    "    get_acts_IEs_VN,\n",
    "    plot_lenses,\n",
    "    plot_mean_metrics,\n",
    "    plot_top_k_games\n",
    ")\n",
    "\n",
    "import circuits.utils as utils\n",
    "import circuits.analysis as analysis\n",
    "import feature_viz_othello_utils as viz_utils\n",
    "from circuits.othello_engine_utils import to_board_label\n",
    "\n",
    "\n",
    "\n",
    "device = 'cuda:0'\n",
    "repo_dir = '/home/can/chess-gpt-circuits'\n",
    "# repo_dir = \"/home/adam/chess-gpt-circuits\""
   ]
  },
  {
   "cell_type": "code",
   "execution_count": null,
   "metadata": {},
   "outputs": [],
   "source": [
    "layer = 5\n",
    "# node_type = \"sae_feature\"\n",
    "node_type = \"mlp_neuron\"\n",
    "\n",
    "\n",
    "if node_type == \"sae_feature\":\n",
    "    ae_group_name = 'all_layers_othello_p_anneal_0530_with_lines'\n",
    "    ae_type = 'p_anneal'\n",
    "    trainer_id = 0\n",
    "    ae_path = f'{repo_dir}/autoencoders/{ae_group_name}/layer_{layer}/trainer{trainer_id}'\n",
    "elif node_type == \"mlp_neuron\":\n",
    "    ae_group_name = 'othello_mlp_acts_identity_aes' # with_lines\n",
    "    ae_type = 'identity'\n",
    "    ae_path = f'{repo_dir}/autoencoders/{ae_group_name}/layer_{layer}'\n",
    "else:\n",
    "    raise ValueError('Invalid node_type')\n",
    "\n",
    "# download data from huggingface if needed\n",
    "if not os.path.exists(f'{repo_dir}/autoencoders/{ae_group_name}'):\n",
    "    hf_hub_download(repo_id='adamkarvonen/othello_saes', filename=f'{ae_group_name}.zip', local_dir=f'{repo_dir}/autoencoders')\n",
    "    # unzip the data\n",
    "    os.system(f'unzip {repo_dir}/autoencoders/{ae_group_name}.zip -d {repo_dir}/autoencoders')\n",
    "\n",
    "# Initialize the autoencoder\n",
    "if ae_type == 'standard' or ae_type == 'p_anneal':\n",
    "    ae = AutoEncoder.from_pretrained(os.path.join(ae_path, 'ae.pt'), device='cuda:0')\n",
    "elif ae_type == 'gated' or ae_type == 'gated_anneal':\n",
    "    ae = GatedAutoEncoder.from_pretrained(os.path.join(ae_path, 'ae.pt'), device='cuda:0')\n",
    "elif ae_type == 'standard_new':\n",
    "    ae = AutoEncoderNew.from_pretrained(os.path.join(ae_path, 'ae.pt'), device='cuda:0')\n",
    "elif ae_type == 'identity':\n",
    "    ae = IdentityDict()\n",
    "else:\n",
    "    raise ValueError('Invalid ae_type')"
   ]
  },
  {
   "cell_type": "code",
   "execution_count": null,
   "metadata": {},
   "outputs": [],
   "source": [
    "model_name = \"Baidicoot/Othello-GPT-Transformer-Lens\"\n",
    "model = get_model(model_name, device)"
   ]
  },
  {
   "cell_type": "code",
   "execution_count": null,
   "metadata": {},
   "outputs": [],
   "source": [
    "# Load results files\n",
    "\n",
    "# load feature analysis results\n",
    "def to_device(d, device=device):\n",
    "    if isinstance(d, t.Tensor):\n",
    "        return d.to(device)\n",
    "    if isinstance(d, dict):\n",
    "        return {k: to_device(v, device) for k, v in d.items()}\n",
    "\n",
    "\n",
    "with open (os.path.join(ae_path, 'indexing_None_n_inputs_1000_results.pkl'), 'rb') as f:\n",
    "    results = pickle.load(f)\n",
    "results = utils.to_device(results, device)\n",
    "print(results.keys())\n",
    "\n",
    "feature_labels, misc_stats = analysis.analyze_results_dict(results, \"\", device, save_results=False, verbose=False, print_results=False, significance_threshold=100)\n",
    "print(feature_labels.keys())\n",
    "\n",
    "with open (os.path.join(ae_path, 'n_inputs_1000_evals.pkl'), 'rb') as f:\n",
    "    eval_results = pickle.load(f)\n",
    "print(eval_results.keys())\n",
    "print(f\"L0: {eval_results['eval_results']['l0']}\")"
   ]
  },
  {
   "cell_type": "code",
   "execution_count": null,
   "metadata": {},
   "outputs": [],
   "source": [
    "# bs_function = 'games_batch_to_valid_moves_BLRRC'\n",
    "# bs_function = 'games_batch_to_state_stack_mine_yours_blank_mask_BLRRC'\n",
    "# bs_function = 'games_batch_to_state_stack_lines_mine_BLRCC'\n",
    "bs_function = 'games_batch_to_state_stack_length_lines_mine_BLRCC'\n",
    "# bs_function = 'games_batch_to_state_stack_opponent_length_lines_mine_BLRCC'\n",
    "\n",
    "alive_to_feat_idx = {v.item(): i for i, v in enumerate(feature_labels['alive_features'])}\n",
    "n_features_alive = len(alive_to_feat_idx)"
   ]
  },
  {
   "cell_type": "code",
   "execution_count": null,
   "metadata": {},
   "outputs": [],
   "source": [
    "results[bs_function].keys()"
   ]
  },
  {
   "cell_type": "code",
   "execution_count": null,
   "metadata": {},
   "outputs": [],
   "source": [
    "results[bs_function]['on'].shape, results[bs_function]['all'].shape"
   ]
  },
  {
   "cell_type": "code",
   "execution_count": null,
   "metadata": {},
   "outputs": [],
   "source": [
    "(results[bs_function]['on'].max(dim=0).values.max(dim=0).values < results[bs_function]['all']).sum()"
   ]
  },
  {
   "cell_type": "code",
   "execution_count": null,
   "metadata": {},
   "outputs": [],
   "source": [
    "on_and_off = results[bs_function]['on'] + results[bs_function]['off']\n",
    "for thresh in range(1, 10):\n",
    "    for freat in range(n_features_alive):\n",
    "        assert t.all(on_and_off[thresh, freat] == results[bs_function]['all'])"
   ]
  },
  {
   "cell_type": "markdown",
   "metadata": {},
   "source": [
    "## Recall\n",
    "\n",
    "recall = TP / all_T"
   ]
  },
  {
   "cell_type": "code",
   "execution_count": null,
   "metadata": {},
   "outputs": [],
   "source": [
    "results[bs_function]['all'].shape\n",
    "eights = [[-1, 0], [-1, 1], [0, 1], [1, 1], [1, 0], [1, -1], [0, -1], [-1, -1]]\n"
   ]
  },
  {
   "cell_type": "code",
   "execution_count": null,
   "metadata": {},
   "outputs": [],
   "source": [
    "# 20 random ints between 0 and 1000\n",
    "np.random.randint(0, 1000, 20)"
   ]
  },
  {
   "cell_type": "code",
   "execution_count": null,
   "metadata": {},
   "outputs": [],
   "source": [
    "a = t.arange(5) * 8\n",
    "print(a)\n",
    "results[bs_function]['all'][0,0,a]"
   ]
  },
  {
   "cell_type": "code",
   "execution_count": null,
   "metadata": {},
   "outputs": [],
   "source": [
    "epsilon = 1e-6\n",
    "recall_TFRRC = results[bs_function]['on'] / (results[bs_function]['all'] + epsilon)"
   ]
  },
  {
   "cell_type": "code",
   "execution_count": null,
   "metadata": {},
   "outputs": [],
   "source": [
    "length = 2\n",
    "direction = 3\n",
    "t.tensor([11, 12, 13, 21, 22, 23])\n",
    "einops.rearrange(t.tensor([11, 12, 13, 21, 22, 23]), '(l d) -> l d', l=length, d=direction)"
   ]
  },
  {
   "cell_type": "code",
   "execution_count": null,
   "metadata": {},
   "outputs": [],
   "source": [
    "# Drop values with incorrect initialization in the first evaluation run\n",
    "recall_TFSqLenDir = einops.rearrange(recall_TFRRC, 'T F R1 R2 (Len Dir) -> T F (R1 R2) Len Dir', Len=5, Dir=8)\n",
    "# recall_TFSqLenDir = recall_TFSqLenDir[:, :, :, 1:-1, :]\n",
    "\n",
    "# Lookup table feature, indices with recall above T_recall\n",
    "T_recall = 0.9\n",
    "high_recall_TFSqLenDir = (recall_TFSqLenDir > T_recall)"
   ]
  },
  {
   "cell_type": "code",
   "execution_count": null,
   "metadata": {},
   "outputs": [],
   "source": [
    "high_recall_TFSqLenDir.shape"
   ]
  },
  {
   "cell_type": "code",
   "execution_count": null,
   "metadata": {},
   "outputs": [],
   "source": [
    "Sq = 0\n",
    "Len = 0\n",
    "t.any(high_recall_TFSqLenDir, dim=0)[:, Sq].nonzero()"
   ]
  },
  {
   "cell_type": "code",
   "execution_count": null,
   "metadata": {},
   "outputs": [],
   "source": [
    "# Choose T_fire with the maximum hrc features\n",
    "# Looks like noise? what's the random baseline?\n",
    "\n",
    "T_fire_hrc_count = high_recall_TFSqLenDir.sum(dim=(1,2,3,4))\n",
    "plt.bar(t.arange(T_fire_hrc_count.shape[0]).cpu().detach().numpy(), T_fire_hrc_count.cpu().detach().numpy())\n",
    "plt.xlabel('T_fire')\n",
    "plt.ylabel('log(Number of HRC features)')\n",
    "plt.title(f'HRC {node_type} for valid_moves')\n",
    "plt.yscale('log')\n",
    "plt.show()\n",
    "\n",
    "T_fire_max_hrc = T_fire_hrc_count.argmax().item()\n",
    "print(f'the T_fire with the maximum hrc features is {T_fire_max_hrc}')"
   ]
  },
  {
   "cell_type": "code",
   "execution_count": null,
   "metadata": {},
   "outputs": [],
   "source": [
    "# Aggregate over T_fire\n",
    "high_recall_FSqLenDir = t.any(high_recall_TFSqLenDir, dim=0).int()"
   ]
  },
  {
   "cell_type": "markdown",
   "metadata": {},
   "source": [
    "## Number of valid_moves per feature"
   ]
  },
  {
   "cell_type": "markdown",
   "metadata": {},
   "source": [
    "## Lookup tables"
   ]
  },
  {
   "cell_type": "markdown",
   "metadata": {},
   "source": [
    "### Lookup: feature --> bs"
   ]
  },
  {
   "cell_type": "code",
   "execution_count": null,
   "metadata": {},
   "outputs": [],
   "source": [
    "lines_per_feature = high_recall_FSqLenDir.sum(dim=(1,2,3))\n",
    "\n",
    "counts = plt.hist(lines_per_feature.cpu().detach().numpy())\n",
    "plt.xlabel('Number of lines per feature')\n",
    "plt.ylabel('log(Count of features)')\n",
    "plt.title(f'HRC {node_type}')\n",
    "plt.yscale('log')\n",
    "counts"
   ]
  },
  {
   "cell_type": "code",
   "execution_count": null,
   "metadata": {},
   "outputs": [],
   "source": [
    "# Indices of high_recall_F where value ==1\n",
    "high_recall_FSq = t.any(high_recall_FSqLenDir, dim=(-2, -1)).int()\n",
    "high_recall_F = t.sum(high_recall_FSq, dim=-1)\n",
    "feat_idx_single_square_any_number_of_lines = t.where(high_recall_F == 1)[0]\n",
    "print(f'Number of features with high recall for a single square: {feat_idx_single_square_any_number_of_lines.shape[0]}')\n",
    "high_recall_filtered_FSqLenDir = high_recall_FSqLenDir[feat_idx_single_square_any_number_of_lines]"
   ]
  },
  {
   "cell_type": "markdown",
   "metadata": {},
   "source": [
    "## DLA vs valid_move HRC"
   ]
  },
  {
   "cell_type": "markdown",
   "metadata": {},
   "source": [
    "### Lookup bs --> feat"
   ]
  },
  {
   "cell_type": "code",
   "execution_count": null,
   "metadata": {},
   "outputs": [],
   "source": [
    "features_per_square = high_recall_filtered_FSqLenDir.sum(dim=(0,2,3))"
   ]
  },
  {
   "cell_type": "code",
   "execution_count": null,
   "metadata": {},
   "outputs": [],
   "source": [
    "counts = plt.hist(features_per_square.cpu().detach().numpy())\n",
    "plt.xlabel('Number of features per square, any line')\n",
    "plt.ylabel('Count of squares')\n",
    "plt.title(f'HRC {node_type} for Line (Sq * Len * Dir)\\n filtered for HRC corresponding to a single square')\n",
    "\n",
    "counts"
   ]
  },
  {
   "cell_type": "code",
   "execution_count": null,
   "metadata": {},
   "outputs": [],
   "source": [
    "import feature_viz_othello_utils\n",
    "importlib.reload(feature_viz_othello_utils) \n",
    "\n",
    "fig, ax = plt.subplots()\n",
    "viz_utils.visualize_board_from_tensor(ax, features_per_square, title=f'Number of HRC {node_type} per empty square', cmap='inferno')"
   ]
  },
  {
   "cell_type": "code",
   "execution_count": null,
   "metadata": {},
   "outputs": [],
   "source": [
    "# we already filter for features with high recall for exactly 1 square\n",
    "# for a single square, print all the board configurations that have a high recall feature"
   ]
  },
  {
   "cell_type": "code",
   "execution_count": null,
   "metadata": {},
   "outputs": [],
   "source": [
    "eights = [[-1, 0], [-1, 1], [0, 1], [1, 1], [1, 0], [1, -1], [0, -1], [-1, -1]]\n",
    "color_map = {-1: 'black', 0: 'grey', 1: 'gold', -9: 'white', -3: 'green'}\n",
    "color_lbl = {'Mine': -1, 'Empty': 0, 'Yours': 1, 'Not classified': -9, 'Valid move': -3}\n",
    "\n",
    "# Function mapping (Sq, Len, Dir) to a (64,) board tensor\n",
    "def to_board_tensor(square_idx, len_idx, dir_idx, device, opponent_only=True):\n",
    "    board_tensor = t.ones(8, 8, device=device) * color_lbl['Not classified']\n",
    "    x, y = square_idx // 8, square_idx % 8\n",
    "    dx, dy = eights[dir_idx]\n",
    "\n",
    "    board_tensor[x, y] = color_lbl['Empty']\n",
    "    for i in range(1, len_idx + 2):\n",
    "        x += dx\n",
    "        y += dy\n",
    "        print(f'x: {x}, y: {y}')   \n",
    "        if x < 0 or x >= 8 or y < 0 or y >= 8:\n",
    "            break\n",
    "        board_tensor[x, y] = color_lbl['Yours']\n",
    "        print(board_tensor.cpu().detach().numpy())\n",
    "\n",
    "    if opponent_only is False:\n",
    "        x += dx\n",
    "        y += dy\n",
    "        board_tensor[x, y] = color_lbl['Mine']\n",
    "    return board_tensor\n",
    "\n",
    "def plot_board_categorical(fig, axs, boards, node_idxs, node_type):\n",
    "    # Define color ma\n",
    "    colors = list(color_map.values())\n",
    "    cmap = plt.matplotlib.colors.ListedColormap(colors)\n",
    "    label_to_enumerate = {label: i for i, label in enumerate(color_map.keys())}\n",
    "    vmin=0\n",
    "    vmax=len(color_map)-1\n",
    "    norm = plt.matplotlib.colors.Normalize(vmin=vmin, vmax=vmax)\n",
    "\n",
    "    \n",
    "    # Plot each board\n",
    "    for ax, board, feat_idx in zip(axs.flat, boards, node_idxs):\n",
    "        board_indices = np.vectorize(lambda x: label_to_enumerate[x])(board)\n",
    "        cax = ax.imshow(board_indices, cmap=cmap, norm=norm)\n",
    "\n",
    "        # Plot labeling\n",
    "        ax.set_xticks(range(8))\n",
    "        ax.set_xticklabels(['A', 'B', 'C', 'D', 'E', 'F', 'G', 'H'])\n",
    "        ax.set_title(f'{node_type} #{feat_idx}', fontsize=10)\n",
    "\n",
    "    cbar = fig.colorbar(cax, ax=axs, norm=norm, orientation='horizontal', ticks=range(len(color_lbl)))\n",
    "    cbar.ax.set_xticklabels(list(color_lbl.keys()))"
   ]
  },
  {
   "cell_type": "code",
   "execution_count": null,
   "metadata": {},
   "outputs": [],
   "source": [
    "square_idx = 0\n",
    "feature_lines = high_recall_filtered_FSqLenDir[:, square_idx].nonzero()\n",
    "\n",
    "for feat_idx, length, direction in feature_lines:\n",
    "    print(f'Feature {feat_idx} with length {length} and direction {direction}')\n",
    "    board_tensor = to_board_tensor(square_idx, length, direction, device)\n",
    "    print(board_tensor)\n",
    "    print('---------------------------------')\n",
    "    break\n",
    "    "
   ]
  },
  {
   "cell_type": "code",
   "execution_count": null,
   "metadata": {},
   "outputs": [],
   "source": [
    "high_recall_SqFLenDir.nonzero().shape"
   ]
  },
  {
   "cell_type": "code",
   "execution_count": null,
   "metadata": {},
   "outputs": [],
   "source": []
  },
  {
   "cell_type": "code",
   "execution_count": null,
   "metadata": {},
   "outputs": [],
   "source": []
  },
  {
   "cell_type": "code",
   "execution_count": null,
   "metadata": {},
   "outputs": [],
   "source": []
  },
  {
   "cell_type": "code",
   "execution_count": null,
   "metadata": {},
   "outputs": [],
   "source": []
  },
  {
   "cell_type": "code",
   "execution_count": null,
   "metadata": {},
   "outputs": [],
   "source": []
  },
  {
   "cell_type": "code",
   "execution_count": null,
   "metadata": {},
   "outputs": [],
   "source": [
    "\n",
    "\n",
    "def get_feature_label_classified_squares(feature_labels, bs_function, feature_idx, mark_idx_s=None) -> t.Tensor:\n",
    "    sae_feature_board_state_RRC = t.any(feature_labels[bs_function], dim=0).int()[feature_idx]\n",
    "    sae_feature_board_state_RR = t.argmax(sae_feature_board_state_RRC, dim=-1)\n",
    "    sae_feature_board_state_RR -= 1\n",
    "\n",
    "    zero_positions_RR = t.all(sae_feature_board_state_RRC == 0, dim=-1)\n",
    "    sae_feature_board_state_RR[zero_positions_RR] = NOT_CLASSIFIED_VALUE\n",
    "    if mark_idx_s is not None:\n",
    "        sae_feature_board_state_RR[mark_idx_s//8, mark_idx_s%8] = -3\n",
    "    return sae_feature_board_state_RR.cpu().detach().numpy()"
   ]
  },
  {
   "cell_type": "code",
   "execution_count": null,
   "metadata": {},
   "outputs": [],
   "source": []
  },
  {
   "cell_type": "code",
   "execution_count": null,
   "metadata": {},
   "outputs": [],
   "source": [
    "bs_indices = [0,1,2,21,22,23]\n",
    "for bs_index in bs_indices:\n",
    "\n",
    "    valid_move_square_label = to_board_label(bs_index)\n",
    "    nodes = lookup_bs_to_feat[bs_index]\n",
    "    input_bs_function = 'games_batch_to_state_stack_mine_yours_blank_mask_BLRRC'\n",
    "\n",
    "\n",
    "    boards = [get_feature_label_classified_squares(feature_labels, input_bs_function, node_idx, mark_idx_s=bs_index) for node_idx in nodes]\n",
    "\n",
    "    n_rows = len(boards)//4+1\n",
    "    n_cols = 4\n",
    "    n_empty = n_rows*n_cols - len(boards)\n",
    "\n",
    "    fig, axs = plt.subplots(n_rows, n_cols, figsize=(n_cols*2.5, n_rows*3.5))\n",
    "    fig.subplots_adjust(hspace=0.4, wspace=0.4)  # Adjust spacing between subplots\n",
    "    plot_board_categorical(fig, axs, boards, nodes, node_type=node_type)\n",
    "\n",
    "    # Remove empty subplots\n",
    "    for i in range(n_empty):\n",
    "        fig.delaxes(axs.flatten()[-i-1])\n",
    "\n",
    "    fig.suptitle(f'HPC {node_type} for board_state, given the {node_type} is HRC for {valid_move_square_label}=valid_move', fontsize=14)\n",
    "    plt.show()"
   ]
  },
  {
   "cell_type": "code",
   "execution_count": null,
   "metadata": {},
   "outputs": [],
   "source": []
  }
 ],
 "metadata": {
  "kernelspec": {
   "display_name": "Python 3",
   "language": "python",
   "name": "python3"
  },
  "language_info": {
   "codemirror_mode": {
    "name": "ipython",
    "version": 3
   },
   "file_extension": ".py",
   "mimetype": "text/x-python",
   "name": "python",
   "nbconvert_exporter": "python",
   "pygments_lexer": "ipython3",
   "version": "3.11.8"
  }
 },
 "nbformat": 4,
 "nbformat_minor": 2
}
