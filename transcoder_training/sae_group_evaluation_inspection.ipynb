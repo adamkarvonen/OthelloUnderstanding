{
 "cells": [
  {
   "cell_type": "code",
   "execution_count": null,
   "metadata": {},
   "outputs": [],
   "source": [
    "import os\n",
    "import pandas as pd\n",
    "import json"
   ]
  },
  {
   "cell_type": "code",
   "execution_count": null,
   "metadata": {},
   "outputs": [],
   "source": [
    "repo_dir = '/share/u/can/OthelloUnderstanding/'\n",
    "ae_group_name = 'mlp_out_sweep_all_layers_panneal_0628'\n",
    "\n",
    "eval_path = os.path.join(repo_dir, 'autoencoders', ae_group_name, 'evaluations.csv')\n",
    "eval_df = pd.read_csv(eval_path)\n",
    "\n",
    "eval_df.columns"
   ]
  },
  {
   "cell_type": "code",
   "execution_count": null,
   "metadata": {},
   "outputs": [],
   "source": [
    "sparsity_penalties, learning_rates = [], []\n",
    "\n",
    "for trainer_path in eval_df['path']:\n",
    "    cfg_path = os.path.join(trainer_path, 'config.json')\n",
    "    with open(cfg_path, 'r') as f:\n",
    "        cfg = json.load(f)\n",
    "    sparsity_penalties.append(cfg['trainer']['sparsity_penalty'])\n",
    "    learning_rates.append(cfg['trainer']['lr'])\n",
    "\n",
    "eval_df['cfg_sparsity_penalty'] = sparsity_penalties\n",
    "eval_df['cfg_learning_rate'] = learning_rates"
   ]
  },
  {
   "cell_type": "code",
   "execution_count": null,
   "metadata": {},
   "outputs": [],
   "source": [
    "layer_idx = 1\n",
    "\n",
    "import pandas as pd\n",
    "import plotly.graph_objects as go\n",
    "\n",
    "# Assuming your DataFrame is named 'df'\n",
    "# df = pd.read_csv('your_data.csv')  # Uncomment this line if you need to load your data\n",
    "\n",
    "# Ask the user for the layer_idx\n",
    "\n",
    "# Filter the DataFrame for the specified layer_idx\n",
    "df_layer = eval_df[eval_df['layer_idx'] == layer_idx]\n",
    "\n",
    "# Create the 3D scatter plot\n",
    "fig = go.Figure(data=[go.Scatter3d(\n",
    "    x=df_layer['cfg_sparsity_penalty'],\n",
    "    y=df_layer['cfg_learning_rate'],\n",
    "    z=df_layer['l0'],\n",
    "    mode='markers',\n",
    "    marker=dict(\n",
    "        size=5,\n",
    "        color=df_layer['l0'],\n",
    "        colorscale='Viridis',\n",
    "        opacity=0.8\n",
    "    )\n",
    ")])\n",
    "\n",
    "# Update layout\n",
    "fig.update_layout(\n",
    "    title=f'3D Plot for Layer {layer_idx}',\n",
    "    scene=dict(\n",
    "        xaxis_title='Sparsity Penalty',\n",
    "        yaxis_title='Learning Rate',\n",
    "        zaxis_title='L0'\n",
    "    ),\n",
    "    width=800,\n",
    "    height=700,\n",
    ")\n",
    "\n",
    "# Show the plot\n",
    "fig.show()"
   ]
  },
  {
   "cell_type": "code",
   "execution_count": null,
   "metadata": {},
   "outputs": [],
   "source": []
  }
 ],
 "metadata": {
  "kernelspec": {
   "display_name": "mats-env",
   "language": "python",
   "name": "python3"
  },
  "language_info": {
   "codemirror_mode": {
    "name": "ipython",
    "version": 3
   },
   "file_extension": ".py",
   "mimetype": "text/x-python",
   "name": "python",
   "nbconvert_exporter": "python",
   "pygments_lexer": "ipython3",
   "version": "3.12.2"
  }
 },
 "nbformat": 4,
 "nbformat_minor": 2
}
