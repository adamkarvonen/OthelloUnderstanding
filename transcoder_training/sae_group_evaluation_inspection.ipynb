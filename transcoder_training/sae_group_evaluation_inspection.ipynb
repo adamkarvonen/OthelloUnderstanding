{
 "cells": [
  {
   "cell_type": "code",
   "execution_count": null,
   "metadata": {},
   "outputs": [],
   "source": [
    "import os\n",
    "import pandas as pd\n",
    "import json\n",
    "\n",
    "import matplotlib.pyplot as plt\n",
    "import plotly.graph_objects as go"
   ]
  },
  {
   "cell_type": "code",
   "execution_count": null,
   "metadata": {},
   "outputs": [],
   "source": [
    "repo_dir = '/share/u/can/OthelloUnderstanding/'\n",
    "ae_group_name = 'mlp_out_sweep_all_layers_panneal_0628'\n",
    "# ae_group_name = 'mlp_transcoder_all_layers_panneal_0628'\n",
    "\n",
    "\n",
    "eval_path = os.path.join(repo_dir, 'autoencoders', ae_group_name, 'evaluations.csv')\n",
    "eval_df = pd.read_csv(eval_path)\n",
    "\n",
    "eval_df.columns"
   ]
  },
  {
   "cell_type": "code",
   "execution_count": null,
   "metadata": {},
   "outputs": [],
   "source": [
    "sparsity_penalties, learning_rates = [], []\n",
    "\n",
    "for trainer_path in eval_df['path']:\n",
    "    cfg_path = os.path.join(repo_dir, trainer_path, 'config.json')\n",
    "    with open(cfg_path, 'r') as f:\n",
    "        cfg = json.load(f)\n",
    "    sparsity_penalties.append(cfg['trainer']['sparsity_penalty'])\n",
    "    learning_rates.append(cfg['trainer']['lr'])\n",
    "\n",
    "eval_df['cfg_sparsity_penalty'] = sparsity_penalties\n",
    "eval_df['cfg_learning_rate'] = learning_rates"
   ]
  },
  {
   "cell_type": "code",
   "execution_count": null,
   "metadata": {},
   "outputs": [],
   "source": [
    "import matplotlib.pyplot as plt\n",
    "from matplotlib.colors import Normalize\n",
    "\n",
    "plt.rcParams.update({'font.size': 14})  # Increase the default font size\n",
    "\n",
    "fig, axs = plt.subplots(2, 4, figsize=(25, 12))\n",
    "fig.suptitle('Fraction of Variance Explained vs L0 for Different Layers', fontsize=20)\n",
    "\n",
    "# Create a colormap\n",
    "cmap = plt.get_cmap('viridis')\n",
    "\n",
    "# Get the global min and max of sparsity penalty for consistent color scaling\n",
    "vmin = eval_df['cfg_sparsity_penalty'].min()\n",
    "vmax = eval_df['cfg_sparsity_penalty'].max()\n",
    "norm = Normalize(vmin=vmin, vmax=vmax)\n",
    "\n",
    "for layer_idx in range(8):\n",
    "    row = layer_idx // 4\n",
    "    col = layer_idx % 4\n",
    "    \n",
    "    df_layer = eval_df[eval_df['layer_idx'] == layer_idx]\n",
    "    \n",
    "    # Get unique learning rates\n",
    "    learning_rates = df_layer['cfg_learning_rate'].unique()\n",
    "    \n",
    "    for lr in learning_rates:\n",
    "        df_lr = df_layer[df_layer['cfg_learning_rate'] == lr]\n",
    "        marker = 'o' if lr == learning_rates[0] else 's'\n",
    "        \n",
    "        scatter = axs[row, col].scatter(df_lr['l0'], df_lr['frac_recovered'], \n",
    "                                        c=df_lr['cfg_sparsity_penalty'], \n",
    "                                        cmap=cmap, norm=norm,\n",
    "                                        marker=marker)\n",
    "    \n",
    "    axs[row, col].set_ylabel('Fraction of Loss recovered', fontsize=16)\n",
    "    axs[row, col].set_xlabel('L0', fontsize=16)\n",
    "    axs[row, col].set_title(f'Layer {layer_idx}', fontsize=18)\n",
    "    axs[row, col].tick_params(axis='both', which='major', labelsize=14)\n",
    "\n",
    "# Adjust layout to make room for colorbar\n",
    "plt.tight_layout(rect=[0, 0, 0.9, 0.95])\n",
    "\n",
    "# Add a colorbar to the right of the subplots\n",
    "cbar_ax = fig.add_axes([0.92, 0.15, 0.02, 0.7])\n",
    "cbar = fig.colorbar(scatter, cax=cbar_ax)\n",
    "cbar.set_label('Sparsity Penalty', fontsize=16)\n",
    "cbar.ax.tick_params(labelsize=14)\n",
    "\n",
    "# Add a legend for learning rates\n",
    "handles = [plt.Line2D([0], [0], marker='o', color='w', markerfacecolor='gray', markersize=10, label=f'LR: {learning_rates[0]}'),\n",
    "           plt.Line2D([0], [0], marker='s', color='w', markerfacecolor='gray', markersize=10, label=f'LR: {learning_rates[1]}')]\n",
    "fig.legend(handles=handles, loc='upper right', bbox_to_anchor=(0.99, 0.99), fontsize=14)\n",
    "\n",
    "plt.show()"
   ]
  },
  {
   "cell_type": "code",
   "execution_count": null,
   "metadata": {},
   "outputs": [],
   "source": []
  }
 ],
 "metadata": {
  "kernelspec": {
   "display_name": "mats-env",
   "language": "python",
   "name": "python3"
  },
  "language_info": {
   "codemirror_mode": {
    "name": "ipython",
    "version": 3
   },
   "file_extension": ".py",
   "mimetype": "text/x-python",
   "name": "python",
   "nbconvert_exporter": "python",
   "pygments_lexer": "ipython3",
   "version": "3.12.2"
  }
 },
 "nbformat": 4,
 "nbformat_minor": 2
}
