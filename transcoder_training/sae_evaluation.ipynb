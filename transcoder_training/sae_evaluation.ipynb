{
 "cells": [
  {
   "cell_type": "code",
   "execution_count": null,
   "metadata": {},
   "outputs": [],
   "source": [
    "import os\n",
    "import torch as t\n",
    "from huggingface_hub import hf_hub_download\n",
    "\n",
    "\n",
    "from circuits.utils import (\n",
    "    othello_hf_dataset_to_generator,\n",
    "    get_model,\n",
    ")\n",
    "from circuits.dictionary_learning.buffer import NNsightActivationBuffer\n",
    "from circuits.dictionary_learning.dictionary import AutoEncoder, GatedAutoEncoder, AutoEncoderNew, IdentityDict"
   ]
  },
  {
   "cell_type": "code",
   "execution_count": null,
   "metadata": {},
   "outputs": [],
   "source": [
    "layer = 5\n",
    "transcoder = False\n",
    "device='cuda:0'\n",
    "repo_dir = '/share/u/can/OthelloUnderstanding'"
   ]
  },
  {
   "cell_type": "code",
   "execution_count": null,
   "metadata": {},
   "outputs": [],
   "source": [
    "# model and data parameters\n",
    "model_name = \"Baidicoot/Othello-GPT-Transformer-Lens\"\n",
    "dataset_name = \"taufeeque/othellogpt\"\n",
    "context_length = 59\n",
    "activation_dim = 512  # output dimension of the layer\n",
    "\n",
    "buffer_size = int(3e4 / 4)\n",
    "llm_batch_size = 128 # 256 for A100 GPU, 64 for 1080ti\n",
    "sae_batch_size = 8192\n",
    "num_tokens = 200_000_000    \n",
    "\n",
    "# Initialize model, data and activation buffer\n",
    "model = get_model(model_name, device)\n",
    "data = othello_hf_dataset_to_generator(\n",
    "    dataset_name, context_length=context_length, split=\"train\", streaming=True\n",
    ")\n",
    "if transcoder:\n",
    "    io = \"in\"\n",
    "    submodule = model.blocks[layer].mlp\n",
    "else:\n",
    "    io = \"out\"\n",
    "    # submodule = model.blocks[layer].hook_resid_post # resid_post\n",
    "    submodule = model.blocks[layer].hook_mlp_out # resid_post\n",
    "    # submodule = model.blocks[layer].mlp.hook_post # resid_pre\n",
    "\n",
    "activation_buffer = NNsightActivationBuffer(\n",
    "    data,\n",
    "    model,\n",
    "    submodule,\n",
    "    n_ctxs=buffer_size,\n",
    "    ctx_len=context_length,\n",
    "    refresh_batch_size=llm_batch_size,\n",
    "    out_batch_size=sae_batch_size,\n",
    "    io=io,\n",
    "    d_submodule=activation_dim,\n",
    "    device=device,\n",
    ")"
   ]
  },
  {
   "cell_type": "code",
   "execution_count": null,
   "metadata": {},
   "outputs": [],
   "source": [
    "# Load the sae\n",
    "node_type = \"sae_feature\"\n",
    "# node_type = \"mlp_neuron\"\n",
    "\n",
    "if node_type == \"sae_feature\":\n",
    "    ae_group_name = 'othello_mlp_out_all_layers_panneal_0628'\n",
    "    ae_type = 'p_anneal'\n",
    "    trainer_id = 0\n",
    "    ae_path = f'{repo_dir}/autoencoders/{ae_group_name}/layer_{layer}/trainer{trainer_id}'\n",
    "\n",
    "elif node_type == \"mlp_neuron\":\n",
    "    ae_group_name = 'othello_mlp_acts_identity_aes_lines' # with_lines\n",
    "    ae_type = 'identity'\n",
    "    ae_path = f'{repo_dir}/autoencoders/{ae_group_name}/layer_{layer}'\n",
    "else:\n",
    "    raise ValueError('Invalid node_type')\n",
    "\n",
    "# download data from huggingface if needed\n",
    "if not os.path.exists(f'{repo_dir}/autoencoders/{ae_group_name}'):\n",
    "    hf_hub_download(repo_id='adamkarvonen/othello_saes', filename=f'{ae_group_name}.zip', local_dir=f'{repo_dir}/autoencoders')\n",
    "    # unzip the data\n",
    "    os.system(f'unzip {repo_dir}/autoencoders/{ae_group_name}.zip -d {repo_dir}/autoencoders')\n",
    "\n",
    "# Initialize the autoencoder\n",
    "if ae_type == 'standard' or ae_type == 'p_anneal':\n",
    "    ae = AutoEncoder.from_pretrained(os.path.join(ae_path, 'ae.pt'), device='cuda:0')\n",
    "elif ae_type == 'gated' or ae_type == 'gated_anneal':\n",
    "    ae = GatedAutoEncoder.from_pretrained(os.path.join(ae_path, 'ae.pt'), device='cuda:0')\n",
    "elif ae_type == 'standard_new':\n",
    "    ae = AutoEncoderNew.from_pretrained(os.path.join(ae_path, 'ae.pt'), device='cuda:0')\n",
    "elif ae_type == 'identity':\n",
    "    ae = IdentityDict()\n",
    "else:\n",
    "    raise ValueError('Invalid ae_type')"
   ]
  },
  {
   "cell_type": "code",
   "execution_count": null,
   "metadata": {},
   "outputs": [],
   "source": [
    "from circuits.dictionary_learning.evaluation import evaluate\n",
    "\n",
    "eval_result = evaluate(\n",
    "    ae,\n",
    "    activation_buffer,\n",
    "    max_len=context_length,\n",
    "    batch_size=sae_batch_size,\n",
    "    io=io,\n",
    "    tracer_args={'scan': False, 'validate':False},\n",
    "    device=device,\n",
    ")"
   ]
  },
  {
   "cell_type": "code",
   "execution_count": null,
   "metadata": {},
   "outputs": [],
   "source": [
    "eval_result"
   ]
  },
  {
   "cell_type": "markdown",
   "metadata": {},
   "source": [
    "learning rate\n",
    "(expansion factor)\n",
    "sparsity_penalty\n"
   ]
  }
 ],
 "metadata": {
  "kernelspec": {
   "display_name": "mats-env",
   "language": "python",
   "name": "python3"
  },
  "language_info": {
   "codemirror_mode": {
    "name": "ipython",
    "version": 3
   },
   "file_extension": ".py",
   "mimetype": "text/x-python",
   "name": "python",
   "nbconvert_exporter": "python",
   "pygments_lexer": "ipython3",
   "version": "3.12.2"
  }
 },
 "nbformat": 4,
 "nbformat_minor": 2
}
