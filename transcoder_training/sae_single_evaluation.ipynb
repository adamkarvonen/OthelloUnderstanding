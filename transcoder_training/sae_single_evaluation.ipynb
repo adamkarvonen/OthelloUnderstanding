{
 "cells": [
  {
   "cell_type": "code",
   "execution_count": null,
   "metadata": {},
   "outputs": [],
   "source": [
    "from circuits.utils import (\n",
    "    othello_hf_dataset_to_generator,\n",
    "    get_model,\n",
    ")\n",
    "from circuits.dictionary_learning.buffer import NNsightActivationBuffer\n",
    "from circuits.dictionary_learning.dictionary import AutoEncoder, GatedAutoEncoder, AutoEncoderNew, IdentityDict\n",
    "from circuits.dictionary_learning.evaluation import evaluate\n",
    "from circuits.utils import get_ae\n",
    "\n",
    "%autoreload 2"
   ]
  },
  {
   "cell_type": "code",
   "execution_count": null,
   "metadata": {},
   "outputs": [],
   "source": [
    "layer = 5 # or \"\"\n",
    "transcoder = False\n",
    "device='cuda:0'\n",
    "repo_dir = '/share/u/can/OthelloUnderstanding'\n",
    "\n",
    "node_type = \"sae_feature\"\n",
    "# node_type = \"mlp_neuron\"\n",
    "\n",
    "ae_group_name = 'mlp_out_sweep_all_layers_panneal_0628'\n",
    "# ae_group_name = 'othello_mlp_acts_identity_aes_lines' # with_lines\n",
    "ae_type = 'p_anneal'"
   ]
  },
  {
   "cell_type": "code",
   "execution_count": null,
   "metadata": {},
   "outputs": [],
   "source": [
    "# model and data parameters\n",
    "model_name = \"Baidicoot/Othello-GPT-Transformer-Lens\"\n",
    "dataset_name = \"taufeeque/othellogpt\"\n",
    "context_length = 59\n",
    "activation_dim = 512  # output dimension of the layer\n",
    "\n",
    "buffer_size = int(3e4 / 4)\n",
    "llm_batch_size = 128 # 256 for A100 GPU, 64 for 1080ti\n",
    "sae_batch_size = 8192\n",
    "num_tokens = 200_000_000    \n",
    "\n",
    "# Initialize model, data and activation buffer\n",
    "model = get_model(model_name, device)\n",
    "data = othello_hf_dataset_to_generator(\n",
    "    dataset_name, context_length=context_length, split=\"train\", streaming=True\n",
    ")\n",
    "if transcoder:\n",
    "    io = \"in_and_out\"\n",
    "    submodule = model.blocks[layer].mlp\n",
    "else:\n",
    "    io = \"out\"\n",
    "    # submodule = model.blocks[layer].hook_resid_post # resid_post\n",
    "    submodule = model.blocks[layer].hook_mlp_out # resid_post\n",
    "    # submodule = model.blocks[layer].mlp.hook_post # resid_pre\n",
    "\n",
    "activation_buffer = NNsightActivationBuffer(\n",
    "    data,\n",
    "    model,\n",
    "    submodule,\n",
    "    n_ctxs=buffer_size,\n",
    "    ctx_len=context_length,\n",
    "    refresh_batch_size=llm_batch_size,\n",
    "    out_batch_size=sae_batch_size,\n",
    "    io=io,\n",
    "    d_submodule=activation_dim,\n",
    "    device=device,\n",
    ")"
   ]
  },
  {
   "cell_type": "code",
   "execution_count": null,
   "metadata": {},
   "outputs": [],
   "source": [
    "ae = get_ae(layer, node_type, repo_dir, ae_group_name, device=device)\n",
    "eval_results = evaluate(\n",
    "    ae,\n",
    "    activation_buffer,\n",
    "    max_len=context_length,\n",
    "    batch_size=sae_batch_size,\n",
    "    io=io,\n",
    "    tracer_args={'scan': False, 'validate':False},\n",
    "    device=device,\n",
    ")"
   ]
  },
  {
   "cell_type": "code",
   "execution_count": null,
   "metadata": {},
   "outputs": [],
   "source": [
    "eval_results"
   ]
  },
  {
   "cell_type": "code",
   "execution_count": null,
   "metadata": {},
   "outputs": [],
   "source": []
  }
 ],
 "metadata": {
  "kernelspec": {
   "display_name": "mats-env",
   "language": "python",
   "name": "python3"
  },
  "language_info": {
   "codemirror_mode": {
    "name": "ipython",
    "version": 3
   },
   "file_extension": ".py",
   "mimetype": "text/x-python",
   "name": "python",
   "nbconvert_exporter": "python",
   "pygments_lexer": "ipython3",
   "version": "3.12.2"
  }
 },
 "nbformat": 4,
 "nbformat_minor": 2
}
