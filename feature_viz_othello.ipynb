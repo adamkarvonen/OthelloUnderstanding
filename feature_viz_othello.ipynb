{
 "cells": [
  {
   "cell_type": "markdown",
   "metadata": {},
   "source": [
    "# Visualize othello board with highlighted background\n",
    "\n",
    "Input to the model: \"int\", doesn't contain middle pieces\n",
    "For plotting and correct conversion to board visualization: \"string\", does mind middle pieces \n",
    "\n",
    "## Setup"
   ]
  },
  {
   "cell_type": "code",
   "execution_count": null,
   "metadata": {},
   "outputs": [],
   "source": [
    "import os\n",
    "import pickle\n",
    "\n",
    "import torch as t\n",
    "from huggingface_hub import hf_hub_download\n",
    "import einops\n",
    "\n",
    "from circuits.dictionary_learning.dictionary import AutoEncoder, AutoEncoderNew, GatedAutoEncoder\n",
    "from circuits.utils import (\n",
    "    othello_hf_dataset_to_generator,\n",
    "    get_model,\n",
    "    get_submodule,\n",
    ")\n",
    "\n",
    "from feature_viz_othello_utils import (\n",
    "    get_acts_IEs_VN,\n",
    "    plot_lenses,\n",
    "    plot_mean_metrics,\n",
    "    plot_top_k_games\n",
    ")\n",
    "\n",
    "import circuits.utils as utils\n",
    "import circuits.analysis as analysis\n",
    "\n",
    "repo_dir = '/home/can/chess-gpt-circuits'\n",
    "# repo_dir = \"/home/adam/chess-gpt-circuits\"\n",
    "device = 'cuda:0'\n",
    "\n",
    "ae_group_name = 'othello_mlp_acts_identity_aes'"
   ]
  },
  {
   "cell_type": "code",
   "execution_count": null,
   "metadata": {},
   "outputs": [],
   "source": [
    "# download data from huggingface if needed\n",
    "if not os.path.exists(f'{repo_dir}/autoencoders/{ae_group_name}'):\n",
    "    hf_hub_download(repo_id='adamkarvonen/othello_saes', filename=f'{ae_group_name}.zip', local_dir=f'{repo_dir}/autoencoders')\n",
    "    # unzip the data\n",
    "    os.system(f'unzip {repo_dir}/autoencoders/{ae_group_name}.zip -d autoencoders')"
   ]
  },
  {
   "cell_type": "code",
   "execution_count": null,
   "metadata": {},
   "outputs": [],
   "source": [
    "# load SAE\n",
    "ae_type = 'p_anneal'\n",
    "# ae_type = 'standard'\n",
    "trainer_id = 4\n",
    "\n",
    "ae_path = f'{repo_dir}/autoencoders/{ae_group_name}/othello-{ae_type}/trainer{trainer_id}'\n",
    "if ae_type == 'standard' or ae_type == 'p_anneal':\n",
    "    ae = AutoEncoder.from_pretrained(os.path.join(ae_path, 'ae.pt'), device='cuda:0')\n",
    "elif ae_type == 'gated' or ae_type == 'gated_anneal':\n",
    "    ae = GatedAutoEncoder.from_pretrained(os.path.join(ae_path, 'ae.pt'), device='cuda:0')\n",
    "elif ae_type == 'standard_new':\n",
    "    ae = AutoEncoderNew.from_pretrained(os.path.join(ae_path, 'ae.pt'), device='cuda:0')\n",
    "else:\n",
    "    raise ValueError('Invalid ae_type')"
   ]
  },
  {
   "cell_type": "code",
   "execution_count": null,
   "metadata": {},
   "outputs": [],
   "source": [
    "# load model and data\n",
    "layer = 5\n",
    "context_length = 59\n",
    "activation_dim = 512  # output dimension of the layer\n",
    "model_name = \"Baidicoot/Othello-GPT-Transformer-Lens\"\n",
    "dataset_name = \"taufeeque/othellogpt\"\n",
    "\n",
    "model = get_model(model_name, device)\n",
    "resid_submodule = model.blocks[layer].hook_resid_post\n",
    "mlp_submodule = model.blocks[layer].mlp.hook_post\n",
    "mlp_post_submodules = [model.blocks[l].mlp.hook_post for l in range(model.cfg.n_layers)]\n",
    "\n",
    "\n",
    "data = othello_hf_dataset_to_generator(\n",
    "    dataset_name, context_length=context_length, split=\"train\", streaming=True\n",
    ")"
   ]
  },
  {
   "cell_type": "code",
   "execution_count": null,
   "metadata": {},
   "outputs": [],
   "source": [
    "# M = Activation dimension\n",
    "# S = Sequence length\n",
    "# B = Batch size, ie games per batch\n",
    "# L = Number of batches\n",
    "# N = L * B = Total number of games\n",
    "\n",
    "B = 10 # B\n",
    "L = 10 # L\n",
    "\n",
    "games_batch_LBS = [[next(data) for _ in range(B)] for _ in range(L)]\n",
    "games_batch_LBS = t.tensor(games_batch_LBS, device=device)\n",
    "print(f'game_batch shape: {games_batch_LBS.shape}')"
   ]
  },
  {
   "cell_type": "code",
   "execution_count": null,
   "metadata": {},
   "outputs": [],
   "source": [
    "# load feature analysis results\n",
    "def to_device(d, device=device):\n",
    "    if isinstance(d, t.Tensor):\n",
    "        return d.to(device)\n",
    "    if isinstance(d, dict):\n",
    "        return {k: to_device(v, device) for k, v in d.items()}\n",
    "\n",
    "\n",
    "with open (os.path.join(ae_path, 'indexing_None_n_inputs_1000_results.pkl'), 'rb') as f:\n",
    "    results = pickle.load(f)\n",
    "\n",
    "results = utils.to_device(results, device)\n",
    "\n",
    "print(results.keys())\n",
    "\n",
    "feature_labels, misc_stats = analysis.analyze_results_dict(results, \"\", device, save_results=False, verbose=False, print_results=False, significance_threshold=100)\n",
    "print(feature_labels.keys())\n",
    "\n",
    "\n",
    "with open (os.path.join(ae_path, 'n_inputs_1000_evals.pkl'), 'rb') as f:\n",
    "    eval_results = pickle.load(f)\n",
    "print(eval_results.keys())\n",
    "print(f\"L0: {eval_results['eval_results']['l0']}\")"
   ]
  },
  {
   "cell_type": "markdown",
   "metadata": {},
   "source": [
    "# Here's the interactive part"
   ]
  },
  {
   "cell_type": "code",
   "execution_count": null,
   "metadata": {},
   "outputs": [],
   "source": [
    "def find_alive_feature_idx(desired_feat_idx: int, feature_labels: dict) -> int:\n",
    "    for idx, feat_idx in enumerate(feature_labels['alive_features']):\n",
    "        if feat_idx == desired_feat_idx:\n",
    "            print(f\"Found feature index {desired_feat_idx} at index {idx}\")\n",
    "            return idx\n",
    "    raise ValueError(f\"Feature index {desired_feat_idx} not found in alive features\")\n",
    "\n",
    "alive_idx = find_alive_feature_idx(3098, feature_labels)\n",
    "alive_idx = 0\n",
    "show_indirect_effects = True\n",
    "# node_type = 'sae_feature'\n",
    "node_type = 'mlp_neuron' # ['sae_feature', 'mlp_neuron']"
   ]
  },
  {
   "cell_type": "code",
   "execution_count": null,
   "metadata": {},
   "outputs": [],
   "source": [
    "if node_type == 'sae_feature':\n",
    "    node_idx = int(feature_labels['alive_features'][alive_idx])\n",
    "    submodule = resid_submodule\n",
    "    chosen_ae = ae\n",
    "elif node_type == 'mlp_neuron':\n",
    "    node_idx = alive_idx\n",
    "    submodule = mlp_submodule\n",
    "    chosen_ae = None\n",
    "else:\n",
    "    raise ValueError('Invalid node_type')\n",
    "\n",
    "t.cuda.empty_cache()\n",
    "t.set_grad_enabled(False)\n",
    "\n",
    "if show_indirect_effects:\n",
    "    t.set_grad_enabled(True)\n",
    "\n",
    "feature_acts_NS, acts_per_tokenembed_VN, ie_feature_to_logits_VN, ie_tokenembed_to_features_VN = get_acts_IEs_VN(\n",
    "    model, chosen_ae, games_batch_LBS, submodule, feat_idx=node_idx, compute_ie=show_indirect_effects, device=device\n",
    ")\n",
    "\n",
    "print(f'feat_idx: {node_idx}')\n",
    "print(f'games_batch shape: {games_batch_LBS.shape}')\n",
    "print(f'feature_acts shape: {feature_acts_NS.shape}')"
   ]
  },
  {
   "cell_type": "markdown",
   "metadata": {},
   "source": [
    "## Weight space\n",
    "Cosine sim of feature decoder vector with \n",
    "- token_embed\n",
    "- unembed"
   ]
  },
  {
   "cell_type": "code",
   "execution_count": null,
   "metadata": {},
   "outputs": [],
   "source": [
    "import importlib\n",
    "import feature_viz_othello_utils\n",
    "importlib.reload(feature_viz_othello_utils) \n",
    "feature_viz_othello_utils.plot_lenses(model, ae, 66, device, node_type, layer=layer)"
   ]
  },
  {
   "cell_type": "markdown",
   "metadata": {},
   "source": [
    "## Activation space\n",
    "\n",
    "1. Feature act per input_token\n",
    "2. IE input_token --> feature\n",
    "3. IE feature --> logit\n",
    "\n",
    "- mean over N games\n",
    "- topK over N games"
   ]
  },
  {
   "cell_type": "code",
   "execution_count": null,
   "metadata": {},
   "outputs": [],
   "source": [
    "plot_mean_metrics(\n",
    "    acts_per_tokenembed_VN, ie_tokenembed_to_features_VN, ie_feature_to_logits_VN, \n",
    "    node_idx, n_games=B*L, device=device, with_ie=show_indirect_effects\n",
    "    )"
   ]
  },
  {
   "cell_type": "code",
   "execution_count": null,
   "metadata": {},
   "outputs": [],
   "source": [
    "# Choose metric to retrieve top k games\n",
    "k = 10\n",
    "sort_metric = 'activation' # ['activation', 'ie_embed','ie_logit']\n",
    "\n",
    "games_batch_NS = games_batch_LBS.view(-1, context_length)\n",
    "\n",
    "plot_top_k_games(\n",
    "    node_idx,\n",
    "    games_batch_NS,\n",
    "    feature_acts_NS,\n",
    "    acts_per_tokenembed_VN,\n",
    "    ie_tokenembed_to_features_VN,\n",
    "    ie_feature_to_logits_VN,\n",
    "    sort_metric=sort_metric,\n",
    "    k=k,\n",
    "    with_ie=show_indirect_effects,\n",
    "    device=device,\n",
    ")"
   ]
  },
  {
   "cell_type": "markdown",
   "metadata": {},
   "source": [
    "## Board reconstruction: lookup table for high precision classifiers"
   ]
  },
  {
   "cell_type": "code",
   "execution_count": null,
   "metadata": {},
   "outputs": [],
   "source": [
    "board_state_function = 'games_batch_to_state_stack_mine_yours_BLRRC'\n",
    "board_state_function = 'games_batch_to_state_stack_mine_yours_blank_mask_BLRRC'\n",
    "# board_state_function = 'games_batch_to_valid_moves_BLRRC'\n",
    "\n",
    "# There's 11 thresholds in the lookup table. If 0, the lookup table is constructed from every activation\n",
    "# If 1, it's constructed from all activations above 10% of that feature's max activation. If 2, 20% etc.\n",
    "# 1 is a reasonable default\n",
    "threshold_idx = 5\n",
    "\n",
    "demo_idx = None\n",
    "\n",
    "squares_classified_counts = []\n",
    "for alive_feature_index in range(len(feature_labels['alive_features'])):\n",
    "    num_classified_squares = feature_labels[board_state_function][threshold_idx][alive_feature_index].sum()\n",
    "    if num_classified_squares > 0:\n",
    "        print(f'Feature {alive_feature_index} has {num_classified_squares} classified squares')\n",
    "        squares_classified_counts.append(num_classified_squares.item())\n",
    "\n",
    "        demo_idx = alive_feature_index\n",
    "\n",
    "if demo_idx is None:\n",
    "    raise ValueError('No features have any classified squares')"
   ]
  },
  {
   "cell_type": "code",
   "execution_count": null,
   "metadata": {},
   "outputs": [],
   "source": [
    "print(squares_classified_counts)\n",
    "import matplotlib.pyplot as plt\n",
    "\n",
    "# add title\n",
    "plt.title(f'Number of classified squares (valid moves) for each feature')\n",
    "plt.hist(squares_classified_counts, bins=4)\n",
    "plt.savefig('classified_squares_hist_valid_moves.png')"
   ]
  },
  {
   "cell_type": "code",
   "execution_count": null,
   "metadata": {},
   "outputs": [],
   "source": [
    "node_idx = alive_idx\n",
    "print(f'feat_idx: {node_idx}')"
   ]
  },
  {
   "cell_type": "code",
   "execution_count": null,
   "metadata": {},
   "outputs": [],
   "source": [
    "threshold_idx = 1\n",
    "print(\"Board states that the feature classifies according to Adam's measurements:\")\n",
    "print((feature_labels[board_state_function][threshold_idx][node_idx] == 1).nonzero())\n",
    "print(\"Number of such board states:\")\n",
    "print((feature_labels[board_state_function][threshold_idx][node_idx] == 1).sum())"
   ]
  },
  {
   "cell_type": "code",
   "execution_count": null,
   "metadata": {},
   "outputs": [],
   "source": [
    "import numpy as np\n",
    "import matplotlib.pyplot as plt\n",
    "\n",
    "NOT_CLASSIFIED_VALUE = -9\n",
    "\n",
    "def get_feature_label_classified_squares(feature_labels, board_state_function, threshold_idx, feature_idx) -> t.Tensor:\n",
    "    sae_feature_board_state_RRC = feature_labels[board_state_function][threshold_idx][feature_idx]\n",
    "    sae_feature_board_state_RR = t.argmax(sae_feature_board_state_RRC, dim=-1)\n",
    "    sae_feature_board_state_RR -= 1\n",
    "\n",
    "    zero_positions_RR = t.all(sae_feature_board_state_RRC == 0, dim=-1)\n",
    "    sae_feature_board_state_RR[zero_positions_RR] = NOT_CLASSIFIED_VALUE\n",
    "    return sae_feature_board_state_RR\n",
    "\n",
    "def plot_board_categorical(board, feat_idx, board_state_function):\n",
    "    # Define color map\n",
    "    color_map = {-1: 'black', 0: 'grey', 1: 'white', NOT_CLASSIFIED_VALUE: 'yellow', -3: 'red'}\n",
    "    unique_labels = np.unique(board)\n",
    "    colors = [color_map[label] for label in unique_labels]\n",
    "    cmap = plt.matplotlib.colors.ListedColormap(colors)\n",
    "\n",
    "    # Initialize plot\n",
    "    fig, ax = plt.subplots()\n",
    "    board_indices = np.vectorize(lambda x: np.where(unique_labels == x)[0][0])(board.numpy())\n",
    "    cax = ax.imshow(board_indices, cmap=cmap)\n",
    "\n",
    "    # Create a color bar with the correct labels\n",
    "    cbar = fig.colorbar(cax, ticks=range(len(unique_labels)))\n",
    "    cbar.ax.set_yticklabels([color_map[label] for label in unique_labels])\n",
    "\n",
    "    # Plot labeling\n",
    "    ax.set_xticks(range(8))\n",
    "    ax.set_xticklabels(['A', 'B', 'C', 'D', 'E', 'F', 'G', 'H'])\n",
    "    ax.set_title(f'Feature #{feat_idx} is high precision classifier for:\\n{board_state_function}\\nGrey = Empty, Yellow = Not present in one hot vector')\n",
    "\n",
    "    plt.show()"
   ]
  },
  {
   "cell_type": "code",
   "execution_count": null,
   "metadata": {},
   "outputs": [],
   "source": [
    "sae_feature_board_state_RR = get_feature_label_classified_squares(feature_labels, board_state_function, threshold_idx, node_idx)\n",
    "plot_board_categorical(sae_feature_board_state_RR.to('cpu'), node_idx, board_state_function)"
   ]
  },
  {
   "cell_type": "code",
   "execution_count": null,
   "metadata": {},
   "outputs": [],
   "source": []
  }
 ],
 "metadata": {
  "kernelspec": {
   "display_name": "Python 3",
   "language": "python",
   "name": "python3"
  },
  "language_info": {
   "codemirror_mode": {
    "name": "ipython",
    "version": 3
   },
   "file_extension": ".py",
   "mimetype": "text/x-python",
   "name": "python",
   "nbconvert_exporter": "python",
   "pygments_lexer": "ipython3",
   "version": "3.11.8"
  }
 },
 "nbformat": 4,
 "nbformat_minor": 2
}
