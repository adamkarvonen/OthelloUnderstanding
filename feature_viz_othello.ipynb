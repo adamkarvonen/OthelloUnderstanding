{
 "cells": [
  {
   "cell_type": "markdown",
   "metadata": {},
   "source": [
    "# Visualize othello board with highlighted background\n",
    "\n",
    "Input to the model: \"int\", doesn't contain middle pieces\n",
    "For plotting and correct conversion to board visualization: \"string\", does mind middle pieces \n",
    "\n",
    "## Setup"
   ]
  },
  {
   "cell_type": "code",
   "execution_count": null,
   "metadata": {},
   "outputs": [],
   "source": [
    "import os\n",
    "import pickle\n",
    "\n",
    "import torch as t\n",
    "from huggingface_hub import hf_hub_download\n",
    "import einops\n",
    "\n",
    "from circuits.dictionary_learning.dictionary import AutoEncoder, AutoEncoderNew, GatedAutoEncoder\n",
    "from circuits.utils import (\n",
    "    othello_hf_dataset_to_generator,\n",
    "    get_model,\n",
    "    get_submodule,\n",
    ")\n",
    "\n",
    "from feature_viz_othello_utils import (\n",
    "    get_acts_IEs_VB,\n",
    "    plot_lenses,\n",
    "    plot_mean_metrics,\n",
    "    plot_top_k_games\n",
    ")\n",
    "\n",
    "repo_dir = '/home/can/chess-gpt-circuits'\n",
    "# repo_dir = \"/home/adam/chess-gpt-circuits/\"\n",
    "device = 'cuda:0'"
   ]
  },
  {
   "cell_type": "code",
   "execution_count": null,
   "metadata": {},
   "outputs": [],
   "source": [
    "# download data from huggingface if needed\n",
    "if not os.path.exists(f'{repo_dir}/autoencoders/othello_5-21'):\n",
    "    hf_hub_download(repo_id='adamkarvonen/othello_saes', filename='othello_5-21.zip', local_dir=f'{repo_dir}/autoencoders')\n",
    "    # unzip the data\n",
    "    os.system(f'unzip {repo_dir}/autoencoders/othello_5-21.zip -d autoencoders')"
   ]
  },
  {
   "cell_type": "code",
   "execution_count": null,
   "metadata": {},
   "outputs": [],
   "source": [
    "# load SAE\n",
    "ae_type = 'standard'\n",
    "trainer_id = 4\n",
    "\n",
    "ae_path = f'{repo_dir}/autoencoders/othello_5-21/othello-{ae_type}/trainer{trainer_id}'\n",
    "if ae_type == 'standard':\n",
    "    ae = AutoEncoder.from_pretrained(os.path.join(ae_path, 'ae.pt'), device='cuda:0')\n",
    "elif ae_type == 'gated':\n",
    "    ae = GatedAutoEncoder.from_pretrained(os.path.join(ae_path, 'ae.pt'), device='cuda:0')\n",
    "elif ae_type == 'standard_new':\n",
    "    ae = AutoEncoderNew.from_pretrained(os.path.join(ae_path, 'ae.pt'), device='cuda:0')\n",
    "else:\n",
    "    raise ValueError('Invalid ae_type')"
   ]
  },
  {
   "cell_type": "code",
   "execution_count": null,
   "metadata": {},
   "outputs": [],
   "source": [
    "# load model and data\n",
    "layer = 5\n",
    "context_length = 59\n",
    "activation_dim = 512  # output dimension of the layer\n",
    "model_name = \"Baidicoot/Othello-GPT-Transformer-Lens\"\n",
    "dataset_name = \"taufeeque/othellogpt\"\n",
    "\n",
    "model = get_model(model_name, device)\n",
    "submodule = get_submodule(model_name, layer, model)\n",
    "\n",
    "data = othello_hf_dataset_to_generator(\n",
    "    dataset_name, context_length=context_length, split=\"train\", streaming=True\n",
    ")"
   ]
  },
  {
   "cell_type": "code",
   "execution_count": null,
   "metadata": {},
   "outputs": [],
   "source": [
    "games_per_batch = 10 # B\n",
    "n_batches = 10 # N\n",
    "\n",
    "games_batch_NBS = [[next(data) for _ in range(games_per_batch)] for _ in range(n_batches)]\n",
    "games_batch_NBS = t.tensor(games_batch_NBS, device=device)\n",
    "print(f'game_batch shape: {games_batch_NBS.shape}')"
   ]
  },
  {
   "cell_type": "code",
   "execution_count": null,
   "metadata": {},
   "outputs": [],
   "source": [
    "# load feature analysis results\n",
    "def to_device(d, device=device):\n",
    "    if isinstance(d, t.Tensor):\n",
    "        return d.to(device)\n",
    "    if isinstance(d, dict):\n",
    "        return {k: to_device(v, device) for k, v in d.items()}\n",
    "\n",
    "\n",
    "with open(os.path.join(ae_path, 'indexing_None_n_inputs_1000_feature_labels.pkl'), 'rb') as f:\n",
    "    feature_labels = pickle.load(f)\n",
    "feature_labels = to_device(feature_labels)\n",
    "print(feature_labels.keys())\n",
    "\n",
    "\n",
    "with open (os.path.join(ae_path, 'n_inputs_1000_evals.pkl'), 'rb') as f:\n",
    "    eval_results = pickle.load(f)\n",
    "print(eval_results.keys())\n",
    "print(f\"L0: {eval_results['eval_results']['l0']}\")"
   ]
  },
  {
   "cell_type": "markdown",
   "metadata": {},
   "source": [
    "# Here's the interactive part"
   ]
  },
  {
   "cell_type": "code",
   "execution_count": null,
   "metadata": {},
   "outputs": [],
   "source": [
    "idx = 29\n",
    "feat_idx = int(feature_labels['alive_features'][idx])"
   ]
  },
  {
   "cell_type": "code",
   "execution_count": null,
   "metadata": {},
   "outputs": [],
   "source": [
    "feature_acts_BS, acts_per_tokenembed_VB, ie_feature_to_logits_VB, ie_tokenembed_to_features_VB = get_acts_IEs_VB(\n",
    "    model, ae, games_batch_NBS, submodule, feat_idx=feat_idx, compute_ie_embed=True, device=device\n",
    ")\n",
    "\n",
    "print(f'feat_idx: {feat_idx}')\n",
    "print(f'games_batch shape: {games_batch_NBS.shape}')\n",
    "print(f'feature_acts shape: {feature_acts_BS.shape}')\n",
    "print(f'acts_per_tokenembed shape: {acts_per_tokenembed_VB.shape}')\n",
    "print(f'ie_feature_to_logits shape: {ie_feature_to_logits_VB.shape}')\n",
    "print(f'ie_tokenembed_to_features shape: {ie_tokenembed_to_features_VB.shape}')"
   ]
  },
  {
   "cell_type": "markdown",
   "metadata": {},
   "source": [
    "## Weight space\n",
    "Cosine sim of feature decoder vector with \n",
    "- token_embed\n",
    "- unembed"
   ]
  },
  {
   "cell_type": "code",
   "execution_count": null,
   "metadata": {},
   "outputs": [],
   "source": [
    "plot_lenses(model, ae, feat_idx, device)"
   ]
  },
  {
   "cell_type": "markdown",
   "metadata": {},
   "source": [
    "## Activation space\n",
    "\n",
    "1. Feature act per input_token\n",
    "2. IE input_token --> feature\n",
    "3. IE feature --> logit\n",
    "\n",
    "- mean over N games\n",
    "- topK over N games"
   ]
  },
  {
   "cell_type": "code",
   "execution_count": null,
   "metadata": {},
   "outputs": [],
   "source": [
    "plot_mean_metrics(acts_per_tokenembed_VB, ie_tokenembed_to_features_VB, ie_feature_to_logits_VB, feat_idx, n_games=games_per_batch*n_batches, device=device)"
   ]
  },
  {
   "cell_type": "code",
   "execution_count": null,
   "metadata": {},
   "outputs": [],
   "source": [
    "# Choose metric to retrieve top k games\n",
    "k = 10\n",
    "sort_metric = 'activation' # ['activation', 'ie_embed','ie_logit']\n",
    "\n",
    "games_batch_BS = games_batch_NBS.view(-1, context_length)\n",
    "\n",
    "plot_top_k_games(\n",
    "    feat_idx,\n",
    "    games_batch_BS,\n",
    "    feature_acts_BS,\n",
    "    acts_per_tokenembed_VB,\n",
    "    ie_tokenembed_to_features_VB,\n",
    "    ie_feature_to_logits_VB,\n",
    "    sort_metric=sort_metric,\n",
    "    k=k,\n",
    "    device=device,\n",
    ")"
   ]
  },
  {
   "cell_type": "markdown",
   "metadata": {},
   "source": [
    "## Board reconstruction: lookup table for high precision classifiers"
   ]
  },
  {
   "cell_type": "code",
   "execution_count": null,
   "metadata": {},
   "outputs": [],
   "source": [
    "# board_state_function = 'games_batch_to_state_stack_mine_yours_BLRRC'\n",
    "board_state_function = 'games_batch_to_state_stack_mine_yours_blank_mask_BLRRC'\n",
    "# board_state_function = 'games_batch_to_valid_moves_BLRRC'\n",
    "\n",
    "# There's 11 thresholds in the lookup table. If 0, the lookup table is constructed from every activation\n",
    "# If 1, it's constructed from all activations above 10% of that feature's max activation. If 2, 20% etc.\n",
    "# 1 is a reasonable default\n",
    "threshold_idx = 1 \n",
    "\n",
    "demo_idx = None\n",
    "\n",
    "for alive_feature_index in range(70):\n",
    "    num_classified_squares = feature_labels[board_state_function][threshold_idx][alive_feature_index].sum()\n",
    "    if num_classified_squares > 0:\n",
    "        print(f'Feature {alive_feature_index} has {num_classified_squares} classified squares')\n",
    "\n",
    "        demo_idx = alive_feature_index\n",
    "\n",
    "if demo_idx is None:\n",
    "    raise ValueError('No features have any classified squares')"
   ]
  },
  {
   "cell_type": "code",
   "execution_count": null,
   "metadata": {},
   "outputs": [],
   "source": [
    "feat_idx = 29\n",
    "print(f'feat_idx: {feat_idx}')"
   ]
  },
  {
   "cell_type": "code",
   "execution_count": null,
   "metadata": {},
   "outputs": [],
   "source": [
    "print(\"Board states that the feature classifies according to Adam's measurements:\")\n",
    "print((feature_labels[board_state_function][threshold_idx][feat_idx] == 1).nonzero())\n",
    "print(\"Number of such board states:\")\n",
    "print((feature_labels[board_state_function][threshold_idx][feat_idx] == 1).sum())"
   ]
  },
  {
   "cell_type": "code",
   "execution_count": null,
   "metadata": {},
   "outputs": [],
   "source": [
    "import numpy as np\n",
    "import matplotlib.pyplot as plt\n",
    "\n",
    "NOT_CLASSIFIED_VALUE = -9\n",
    "\n",
    "def get_feature_label_classified_squares(feature_labels, board_state_function, threshold_idx, feature_idx) -> t.Tensor:\n",
    "    sae_feature_board_state_RRC = feature_labels[board_state_function][threshold_idx][feature_idx]\n",
    "    sae_feature_board_state_RR = t.argmax(sae_feature_board_state_RRC, dim=-1)\n",
    "    sae_feature_board_state_RR -= 1\n",
    "\n",
    "    zero_positions_RR = t.all(sae_feature_board_state_RRC == 0, dim=-1)\n",
    "    sae_feature_board_state_RR[zero_positions_RR] = NOT_CLASSIFIED_VALUE\n",
    "    return sae_feature_board_state_RR\n",
    "\n",
    "def plot_board_categorical(board, feat_idx, board_state_function):\n",
    "    # Define color map\n",
    "    color_map = {-1: 'black', 0: 'grey', 1: 'white', NOT_CLASSIFIED_VALUE: 'yellow', -3: 'red'}\n",
    "    unique_labels = np.unique(board)\n",
    "    colors = [color_map[label] for label in unique_labels]\n",
    "    cmap = plt.matplotlib.colors.ListedColormap(colors)\n",
    "\n",
    "    # Initialize plot\n",
    "    fig, ax = plt.subplots()\n",
    "    board_indices = np.vectorize(lambda x: np.where(unique_labels == x)[0][0])(board.numpy())\n",
    "    cax = ax.imshow(board_indices, cmap=cmap)\n",
    "\n",
    "    # Create a color bar with the correct labels\n",
    "    cbar = fig.colorbar(cax, ticks=range(len(unique_labels)))\n",
    "    cbar.ax.set_yticklabels([color_map[label] for label in unique_labels])\n",
    "\n",
    "    # Plot labeling\n",
    "    ax.set_xticks(range(8))\n",
    "    ax.set_xticklabels(['A', 'B', 'C', 'D', 'E', 'F', 'G', 'H'])\n",
    "    ax.set_title(f'Feature #{feat_idx} is high precision classifier for:\\n{board_state_function}\\nGrey = Empty, Yellow = Not present in one hot vector')\n",
    "\n",
    "    plt.show()"
   ]
  },
  {
   "cell_type": "code",
   "execution_count": null,
   "metadata": {},
   "outputs": [],
   "source": [
    "sae_feature_board_state_RR = get_feature_label_classified_squares(feature_labels, board_state_function, threshold_idx, feat_idx)\n",
    "plot_board_categorical(sae_feature_board_state_RR.to('cpu'), feat_idx, board_state_function)"
   ]
  },
  {
   "cell_type": "code",
   "execution_count": null,
   "metadata": {},
   "outputs": [],
   "source": []
  }
 ],
 "metadata": {
  "kernelspec": {
   "display_name": "Python 3",
   "language": "python",
   "name": "python3"
  },
  "language_info": {
   "codemirror_mode": {
    "name": "ipython",
    "version": 3
   },
   "file_extension": ".py",
   "mimetype": "text/x-python",
   "name": "python",
   "nbconvert_exporter": "python",
   "pygments_lexer": "ipython3",
   "version": "3.11.8"
  }
 },
 "nbformat": 4,
 "nbformat_minor": 2
}
