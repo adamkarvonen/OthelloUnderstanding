{
 "cells": [
  {
   "cell_type": "code",
   "execution_count": null,
   "metadata": {},
   "outputs": [],
   "source": [
    "import torch\n",
    "import pickle\n",
    "\n",
    "import circuits.analysis as analysis\n",
    "import circuits.eval_sae_as_classifier as eval_sae\n",
    "import circuits.chess_utils as chess_utils"
   ]
  },
  {
   "cell_type": "code",
   "execution_count": null,
   "metadata": {},
   "outputs": [],
   "source": [
    "import torch\n",
    "\n",
    "# Define a sample 3D tensor with random values\n",
    "# Dimensions: T x F x C (let's use 2 x 3 x 4 for simplicity)\n",
    "f1_TFC = torch.randn(2, 3, 4)\n",
    "print(\"Original Tensor (T x F x C):\")\n",
    "print(f1_TFC)\n",
    "\n",
    "def best_f1_average(f1_TFC: torch.Tensor) -> torch.Tensor:\n",
    "    # Apply torch.max along the last dimension (dimension 2)\n",
    "    # Select only the values, ignoring the indices\n",
    "    f1_TF, _ = torch.max(f1_TFC, dim=1)\n",
    "    return f1_TF\n",
    "\n",
    "# Compute the maximum along the 'C' dimension and reduce to a 2D tensor\n",
    "f1_TF = best_f1_average(f1_TFC)\n",
    "print(\"\\nReduced Tensor (T x F) with max values from 'C':\")\n",
    "print(f1_TF)"
   ]
  },
  {
   "cell_type": "code",
   "execution_count": null,
   "metadata": {},
   "outputs": [],
   "source": [
    "def mask_all_blanks(results: dict, device) -> dict:\n",
    "    custom_functions = analysis.get_all_custom_functions(results)\n",
    "    for function in custom_functions:\n",
    "        function_name = function.__name__\n",
    "\n",
    "        if function == chess_utils.board_to_piece_state or function == chess_utils.board_to_piece_color_state:\n",
    "            on_TFRRC = results[function_name]['on']\n",
    "            off_TFRRC = results[function_name]['off']\n",
    "            results[function_name]['on'] = analysis.mask_initial_board_state(on_TFRRC, function, device)\n",
    "            results[function_name]['off'] = analysis.mask_initial_board_state(off_TFRRC, function, device)\n",
    "\n",
    "    return results\n",
    "\n",
    "def best_f1_average(f1_TFRRC: torch.Tensor) -> torch.Tensor:\n",
    "    f1_TRRC, _ = torch.max(f1_TFRRC, dim=1)\n",
    "    \n"
   ]
  },
  {
   "cell_type": "code",
   "execution_count": null,
   "metadata": {},
   "outputs": [],
   "source": [
    "\n",
    "device = \"cpu\"\n",
    "autoencoder_group_paths = [\"../autoencoders/chess_layer5/\"]\n",
    "folders = eval_sae.get_nested_folders(autoencoder_group_paths[0])\n",
    "\n",
    "custom_functions = []\n",
    "\n",
    "sae_results = {}\n",
    "\n",
    "for folder in folders:\n",
    "\n",
    "    sae_results[folder] = {}\n",
    "\n",
    "    results_filenames = analysis.get_all_results_file_names(folder)\n",
    "    if len(results_filenames) > 1 or len(results_filenames) == 0:\n",
    "        print(f\"Skipping {folder} because it has {len(results_filenames)} results files\")\n",
    "        print(\"This is most likely because there are results files from different n_inputs\")\n",
    "        continue\n",
    "    results_filename = results_filenames[0]\n",
    "\n",
    "    evals_filename = analysis.get_all_evals_file_names(folder)\n",
    "\n",
    "    if len(evals_filename) > 1 or len(evals_filename) == 0:\n",
    "        print(f\"Skipping {folder} because it has {len(evals_filename)} evals files\")\n",
    "        print(\"This is most likely because there are evals files from different n_inputs\")\n",
    "        continue\n",
    "\n",
    "    evals_filename = evals_filename[0]\n",
    "\n",
    "    with open(results_filename, \"rb\") as f:\n",
    "        results = pickle.load(f)\n",
    "\n",
    "    with open(evals_filename, \"rb\") as f:\n",
    "        evals = pickle.load(f)\n",
    "    \n",
    "    results = mask_all_blanks(results, device)\n",
    "    f1_dict_TFRRC = analysis.get_all_f1s(results, device)\n",
    "\n",
    "    if len(custom_functions) == 0:\n",
    "        for key in f1_dict_TFRRC:\n",
    "            custom_functions.append(key)\n",
    "    else:\n",
    "        for key in f1_dict_TFRRC:\n",
    "            assert key in custom_functions, f\"Key {key} not in custom_functions\"\n",
    "\n",
    "    sae_results[folder][\"l0\"] = evals[\"l0\"]\n",
    "    sae_results[folder][\"frac_variance_explained\"] = evals[\"frac_variance_explained\"]\n",
    "\n",
    "    for custom_function in f1_dict_TFRRC:\n",
    "        f1_TFRRC = f1_dict_TFRRC[custom_function]\n",
    "\n"
   ]
  }
 ],
 "metadata": {
  "kernelspec": {
   "display_name": "circuits",
   "language": "python",
   "name": "python3"
  },
  "language_info": {
   "codemirror_mode": {
    "name": "ipython",
    "version": 3
   },
   "file_extension": ".py",
   "mimetype": "text/x-python",
   "name": "python",
   "nbconvert_exporter": "python",
   "pygments_lexer": "ipython3",
   "version": "3.11.8"
  }
 },
 "nbformat": 4,
 "nbformat_minor": 2
}
